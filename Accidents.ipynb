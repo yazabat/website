{
  "nbformat": 4,
  "nbformat_minor": 0,
  "metadata": {
    "interpreter": {
      "hash": "fea6b2118e214003b00c846549ff4fc0d058407fb8e145dd4cc1b05eb0e73416"
    },
    "kernelspec": {
      "display_name": "Python 3.8.5 64-bit ('base': conda)",
      "name": "python3"
    },
    "language_info": {
      "codemirror_mode": {
        "name": "ipython",
        "version": 3
      },
      "file_extension": ".py",
      "mimetype": "text/x-python",
      "name": "python",
      "nbconvert_exporter": "python",
      "pygments_lexer": "ipython3",
      "version": "3.8.5"
    },
    "orig_nbformat": 4,
    "colab": {
      "name": "Pregunta1.ipynb",
      "provenance": [],
      "include_colab_link": true
    }
  },
  "cells": [
    {
      "cell_type": "markdown",
      "metadata": {
        "id": "view-in-github",
        "colab_type": "text"
      },
      "source": [
        "<a href=\"https://colab.research.google.com/github/yazabat/website/blob/main/Accidents.ipynb\" target=\"_parent\"><img src=\"https://colab.research.google.com/assets/colab-badge.svg\" alt=\"Open In Colab\"/></a>"
      ]
    },
    {
      "cell_type": "code",
      "metadata": {
        "id": "9g8qhDHwcBZi"
      },
      "source": [
        "import pandas as pd"
      ],
      "execution_count": 3,
      "outputs": []
    },
    {
      "cell_type": "code",
      "metadata": {
        "colab": {
          "base_uri": "https://localhost:8080/",
          "height": 387
        },
        "id": "7kVPhACJcBZn",
        "outputId": "efc38067-054c-4ce6-bc29-3a91d8c9c36e"
      },
      "source": [
        "acci=pd.read_csv(r'C:\\Users\\LighthouseLLC\\Desktop\\Econ\\_UNI_Python\\data\\data\\AccidentesAutos_USA.csv')\n"
      ],
      "execution_count": 5,
      "outputs": [
        {
          "output_type": "error",
          "ename": "FileNotFoundError",
          "evalue": "ignored",
          "traceback": [
            "\u001b[0;31m---------------------------------------------------------------------------\u001b[0m",
            "\u001b[0;31mFileNotFoundError\u001b[0m                         Traceback (most recent call last)",
            "\u001b[0;32m<ipython-input-5-d60d2653c63b>\u001b[0m in \u001b[0;36m<module>\u001b[0;34m()\u001b[0m\n\u001b[0;32m----> 1\u001b[0;31m \u001b[0macci\u001b[0m\u001b[0;34m=\u001b[0m\u001b[0mpd\u001b[0m\u001b[0;34m.\u001b[0m\u001b[0mread_csv\u001b[0m\u001b[0;34m(\u001b[0m\u001b[0;34mr'C:\\Users\\LighthouseLLC\\Desktop\\Econ\\_UNI_Python\\data\\data\\AccidentesAutos_USA.csv'\u001b[0m\u001b[0;34m)\u001b[0m\u001b[0;34m\u001b[0m\u001b[0;34m\u001b[0m\u001b[0m\n\u001b[0m",
            "\u001b[0;32m/usr/local/lib/python3.7/dist-packages/pandas/io/parsers.py\u001b[0m in \u001b[0;36mread_csv\u001b[0;34m(filepath_or_buffer, sep, delimiter, header, names, index_col, usecols, squeeze, prefix, mangle_dupe_cols, dtype, engine, converters, true_values, false_values, skipinitialspace, skiprows, skipfooter, nrows, na_values, keep_default_na, na_filter, verbose, skip_blank_lines, parse_dates, infer_datetime_format, keep_date_col, date_parser, dayfirst, cache_dates, iterator, chunksize, compression, thousands, decimal, lineterminator, quotechar, quoting, doublequote, escapechar, comment, encoding, dialect, error_bad_lines, warn_bad_lines, delim_whitespace, low_memory, memory_map, float_precision)\u001b[0m\n\u001b[1;32m    686\u001b[0m     )\n\u001b[1;32m    687\u001b[0m \u001b[0;34m\u001b[0m\u001b[0m\n\u001b[0;32m--> 688\u001b[0;31m     \u001b[0;32mreturn\u001b[0m \u001b[0m_read\u001b[0m\u001b[0;34m(\u001b[0m\u001b[0mfilepath_or_buffer\u001b[0m\u001b[0;34m,\u001b[0m \u001b[0mkwds\u001b[0m\u001b[0;34m)\u001b[0m\u001b[0;34m\u001b[0m\u001b[0;34m\u001b[0m\u001b[0m\n\u001b[0m\u001b[1;32m    689\u001b[0m \u001b[0;34m\u001b[0m\u001b[0m\n\u001b[1;32m    690\u001b[0m \u001b[0;34m\u001b[0m\u001b[0m\n",
            "\u001b[0;32m/usr/local/lib/python3.7/dist-packages/pandas/io/parsers.py\u001b[0m in \u001b[0;36m_read\u001b[0;34m(filepath_or_buffer, kwds)\u001b[0m\n\u001b[1;32m    452\u001b[0m \u001b[0;34m\u001b[0m\u001b[0m\n\u001b[1;32m    453\u001b[0m     \u001b[0;31m# Create the parser.\u001b[0m\u001b[0;34m\u001b[0m\u001b[0;34m\u001b[0m\u001b[0;34m\u001b[0m\u001b[0m\n\u001b[0;32m--> 454\u001b[0;31m     \u001b[0mparser\u001b[0m \u001b[0;34m=\u001b[0m \u001b[0mTextFileReader\u001b[0m\u001b[0;34m(\u001b[0m\u001b[0mfp_or_buf\u001b[0m\u001b[0;34m,\u001b[0m \u001b[0;34m**\u001b[0m\u001b[0mkwds\u001b[0m\u001b[0;34m)\u001b[0m\u001b[0;34m\u001b[0m\u001b[0;34m\u001b[0m\u001b[0m\n\u001b[0m\u001b[1;32m    455\u001b[0m \u001b[0;34m\u001b[0m\u001b[0m\n\u001b[1;32m    456\u001b[0m     \u001b[0;32mif\u001b[0m \u001b[0mchunksize\u001b[0m \u001b[0;32mor\u001b[0m \u001b[0miterator\u001b[0m\u001b[0;34m:\u001b[0m\u001b[0;34m\u001b[0m\u001b[0;34m\u001b[0m\u001b[0m\n",
            "\u001b[0;32m/usr/local/lib/python3.7/dist-packages/pandas/io/parsers.py\u001b[0m in \u001b[0;36m__init__\u001b[0;34m(self, f, engine, **kwds)\u001b[0m\n\u001b[1;32m    946\u001b[0m             \u001b[0mself\u001b[0m\u001b[0;34m.\u001b[0m\u001b[0moptions\u001b[0m\u001b[0;34m[\u001b[0m\u001b[0;34m\"has_index_names\"\u001b[0m\u001b[0;34m]\u001b[0m \u001b[0;34m=\u001b[0m \u001b[0mkwds\u001b[0m\u001b[0;34m[\u001b[0m\u001b[0;34m\"has_index_names\"\u001b[0m\u001b[0;34m]\u001b[0m\u001b[0;34m\u001b[0m\u001b[0;34m\u001b[0m\u001b[0m\n\u001b[1;32m    947\u001b[0m \u001b[0;34m\u001b[0m\u001b[0m\n\u001b[0;32m--> 948\u001b[0;31m         \u001b[0mself\u001b[0m\u001b[0;34m.\u001b[0m\u001b[0m_make_engine\u001b[0m\u001b[0;34m(\u001b[0m\u001b[0mself\u001b[0m\u001b[0;34m.\u001b[0m\u001b[0mengine\u001b[0m\u001b[0;34m)\u001b[0m\u001b[0;34m\u001b[0m\u001b[0;34m\u001b[0m\u001b[0m\n\u001b[0m\u001b[1;32m    949\u001b[0m \u001b[0;34m\u001b[0m\u001b[0m\n\u001b[1;32m    950\u001b[0m     \u001b[0;32mdef\u001b[0m \u001b[0mclose\u001b[0m\u001b[0;34m(\u001b[0m\u001b[0mself\u001b[0m\u001b[0;34m)\u001b[0m\u001b[0;34m:\u001b[0m\u001b[0;34m\u001b[0m\u001b[0;34m\u001b[0m\u001b[0m\n",
            "\u001b[0;32m/usr/local/lib/python3.7/dist-packages/pandas/io/parsers.py\u001b[0m in \u001b[0;36m_make_engine\u001b[0;34m(self, engine)\u001b[0m\n\u001b[1;32m   1178\u001b[0m     \u001b[0;32mdef\u001b[0m \u001b[0m_make_engine\u001b[0m\u001b[0;34m(\u001b[0m\u001b[0mself\u001b[0m\u001b[0;34m,\u001b[0m \u001b[0mengine\u001b[0m\u001b[0;34m=\u001b[0m\u001b[0;34m\"c\"\u001b[0m\u001b[0;34m)\u001b[0m\u001b[0;34m:\u001b[0m\u001b[0;34m\u001b[0m\u001b[0;34m\u001b[0m\u001b[0m\n\u001b[1;32m   1179\u001b[0m         \u001b[0;32mif\u001b[0m \u001b[0mengine\u001b[0m \u001b[0;34m==\u001b[0m \u001b[0;34m\"c\"\u001b[0m\u001b[0;34m:\u001b[0m\u001b[0;34m\u001b[0m\u001b[0;34m\u001b[0m\u001b[0m\n\u001b[0;32m-> 1180\u001b[0;31m             \u001b[0mself\u001b[0m\u001b[0;34m.\u001b[0m\u001b[0m_engine\u001b[0m \u001b[0;34m=\u001b[0m \u001b[0mCParserWrapper\u001b[0m\u001b[0;34m(\u001b[0m\u001b[0mself\u001b[0m\u001b[0;34m.\u001b[0m\u001b[0mf\u001b[0m\u001b[0;34m,\u001b[0m \u001b[0;34m**\u001b[0m\u001b[0mself\u001b[0m\u001b[0;34m.\u001b[0m\u001b[0moptions\u001b[0m\u001b[0;34m)\u001b[0m\u001b[0;34m\u001b[0m\u001b[0;34m\u001b[0m\u001b[0m\n\u001b[0m\u001b[1;32m   1181\u001b[0m         \u001b[0;32melse\u001b[0m\u001b[0;34m:\u001b[0m\u001b[0;34m\u001b[0m\u001b[0;34m\u001b[0m\u001b[0m\n\u001b[1;32m   1182\u001b[0m             \u001b[0;32mif\u001b[0m \u001b[0mengine\u001b[0m \u001b[0;34m==\u001b[0m \u001b[0;34m\"python\"\u001b[0m\u001b[0;34m:\u001b[0m\u001b[0;34m\u001b[0m\u001b[0;34m\u001b[0m\u001b[0m\n",
            "\u001b[0;32m/usr/local/lib/python3.7/dist-packages/pandas/io/parsers.py\u001b[0m in \u001b[0;36m__init__\u001b[0;34m(self, src, **kwds)\u001b[0m\n\u001b[1;32m   2008\u001b[0m         \u001b[0mkwds\u001b[0m\u001b[0;34m[\u001b[0m\u001b[0;34m\"usecols\"\u001b[0m\u001b[0;34m]\u001b[0m \u001b[0;34m=\u001b[0m \u001b[0mself\u001b[0m\u001b[0;34m.\u001b[0m\u001b[0musecols\u001b[0m\u001b[0;34m\u001b[0m\u001b[0;34m\u001b[0m\u001b[0m\n\u001b[1;32m   2009\u001b[0m \u001b[0;34m\u001b[0m\u001b[0m\n\u001b[0;32m-> 2010\u001b[0;31m         \u001b[0mself\u001b[0m\u001b[0;34m.\u001b[0m\u001b[0m_reader\u001b[0m \u001b[0;34m=\u001b[0m \u001b[0mparsers\u001b[0m\u001b[0;34m.\u001b[0m\u001b[0mTextReader\u001b[0m\u001b[0;34m(\u001b[0m\u001b[0msrc\u001b[0m\u001b[0;34m,\u001b[0m \u001b[0;34m**\u001b[0m\u001b[0mkwds\u001b[0m\u001b[0;34m)\u001b[0m\u001b[0;34m\u001b[0m\u001b[0;34m\u001b[0m\u001b[0m\n\u001b[0m\u001b[1;32m   2011\u001b[0m         \u001b[0mself\u001b[0m\u001b[0;34m.\u001b[0m\u001b[0munnamed_cols\u001b[0m \u001b[0;34m=\u001b[0m \u001b[0mself\u001b[0m\u001b[0;34m.\u001b[0m\u001b[0m_reader\u001b[0m\u001b[0;34m.\u001b[0m\u001b[0munnamed_cols\u001b[0m\u001b[0;34m\u001b[0m\u001b[0;34m\u001b[0m\u001b[0m\n\u001b[1;32m   2012\u001b[0m \u001b[0;34m\u001b[0m\u001b[0m\n",
            "\u001b[0;32mpandas/_libs/parsers.pyx\u001b[0m in \u001b[0;36mpandas._libs.parsers.TextReader.__cinit__\u001b[0;34m()\u001b[0m\n",
            "\u001b[0;32mpandas/_libs/parsers.pyx\u001b[0m in \u001b[0;36mpandas._libs.parsers.TextReader._setup_parser_source\u001b[0;34m()\u001b[0m\n",
            "\u001b[0;31mFileNotFoundError\u001b[0m: [Errno 2] No such file or directory: 'C:\\\\Users\\\\LighthouseLLC\\\\Desktop\\\\Econ\\\\_UNI_Python\\\\data\\\\data\\\\AccidentesAutos_USA.csv'"
          ]
        }
      ]
    },
    {
      "cell_type": "code",
      "metadata": {
        "id": "JLwleSd6cBZo",
        "outputId": "94f6735f-e017-4c54-ceaf-c885536337cd"
      },
      "source": [
        "acci.info()"
      ],
      "execution_count": null,
      "outputs": [
        {
          "name": "stdout",
          "output_type": "stream",
          "text": [
            "<class 'pandas.core.frame.DataFrame'>\n",
            "RangeIndex: 1516064 entries, 0 to 1516063\n",
            "Data columns (total 47 columns):\n",
            " #   Column                 Non-Null Count    Dtype  \n",
            "---  ------                 --------------    -----  \n",
            " 0   ID                     1516064 non-null  object \n",
            " 1   Severity               1516064 non-null  int64  \n",
            " 2   Start_Time             1516064 non-null  object \n",
            " 3   End_Time               1516064 non-null  object \n",
            " 4   Start_Lat              1516064 non-null  float64\n",
            " 5   Start_Lng              1516064 non-null  float64\n",
            " 6   End_Lat                1516064 non-null  float64\n",
            " 7   End_Lng                1516064 non-null  float64\n",
            " 8   Distance(mi)           1516064 non-null  float64\n",
            " 9   Description            1516064 non-null  object \n",
            " 10  Number                 469969 non-null   float64\n",
            " 11  Street                 1516064 non-null  object \n",
            " 12  Side                   1516064 non-null  object \n",
            " 13  City                   1515981 non-null  object \n",
            " 14  County                 1516064 non-null  object \n",
            " 15  State                  1516064 non-null  object \n",
            " 16  Zipcode                1515129 non-null  object \n",
            " 17  Country                1516064 non-null  object \n",
            " 18  Timezone               1513762 non-null  object \n",
            " 19  Airport_Code           1511816 non-null  object \n",
            " 20  Weather_Timestamp      1485800 non-null  object \n",
            " 21  Temperature(F)         1473031 non-null  float64\n",
            " 22  Wind_Chill(F)          1066748 non-null  float64\n",
            " 23  Humidity(%)            1470555 non-null  float64\n",
            " 24  Pressure(in)           1479790 non-null  float64\n",
            " 25  Visibility(mi)         1471853 non-null  float64\n",
            " 26  Wind_Direction         1474206 non-null  object \n",
            " 27  Wind_Speed(mph)        1387202 non-null  float64\n",
            " 28  Precipitation(in)      1005515 non-null  float64\n",
            " 29  Weather_Condition      1472057 non-null  object \n",
            " 30  Amenity                1516064 non-null  bool   \n",
            " 31  Bump                   1516064 non-null  bool   \n",
            " 32  Crossing               1516064 non-null  bool   \n",
            " 33  Give_Way               1516064 non-null  bool   \n",
            " 34  Junction               1516064 non-null  bool   \n",
            " 35  No_Exit                1516064 non-null  bool   \n",
            " 36  Railway                1516064 non-null  bool   \n",
            " 37  Roundabout             1516064 non-null  bool   \n",
            " 38  Station                1516064 non-null  bool   \n",
            " 39  Stop                   1516064 non-null  bool   \n",
            " 40  Traffic_Calming        1516064 non-null  bool   \n",
            " 41  Traffic_Signal         1516064 non-null  bool   \n",
            " 42  Turning_Loop           1516064 non-null  bool   \n",
            " 43  Sunrise_Sunset         1515981 non-null  object \n",
            " 44  Civil_Twilight         1515981 non-null  object \n",
            " 45  Nautical_Twilight      1515981 non-null  object \n",
            " 46  Astronomical_Twilight  1515981 non-null  object \n",
            "dtypes: bool(13), float64(13), int64(1), object(20)\n",
            "memory usage: 412.1+ MB\n"
          ]
        }
      ]
    },
    {
      "cell_type": "code",
      "metadata": {
        "id": "iotTVBHTcBZp",
        "outputId": "3a059552-1177-4d00-c46c-0bf887c7d640"
      },
      "source": [
        "acci.columns"
      ],
      "execution_count": null,
      "outputs": [
        {
          "data": {
            "text/plain": [
              "Index(['ID', 'Severity', 'Start_Time', 'End_Time', 'Start_Lat', 'Start_Lng',\n",
              "       'End_Lat', 'End_Lng', 'Distance(mi)', 'Description', 'Number', 'Street',\n",
              "       'Side', 'City', 'County', 'State', 'Zipcode', 'Country', 'Timezone',\n",
              "       'Airport_Code', 'Weather_Timestamp', 'Temperature(F)', 'Wind_Chill(F)',\n",
              "       'Humidity(%)', 'Pressure(in)', 'Visibility(mi)', 'Wind_Direction',\n",
              "       'Wind_Speed(mph)', 'Precipitation(in)', 'Weather_Condition', 'Amenity',\n",
              "       'Bump', 'Crossing', 'Give_Way', 'Junction', 'No_Exit', 'Railway',\n",
              "       'Roundabout', 'Station', 'Stop', 'Traffic_Calming', 'Traffic_Signal',\n",
              "       'Turning_Loop', 'Sunrise_Sunset', 'Civil_Twilight', 'Nautical_Twilight',\n",
              "       'Astronomical_Twilight'],\n",
              "      dtype='object')"
            ]
          },
          "execution_count": 7,
          "metadata": {},
          "output_type": "execute_result"
        }
      ]
    },
    {
      "cell_type": "code",
      "metadata": {
        "id": "i2Fk5miTcBZp",
        "outputId": "ba388e15-3ce8-41ba-e8b8-58144ad471b4"
      },
      "source": [
        "\n",
        "acci.Start_Time.sample(n=100)\n",
        "acci.End_Time.sample(n=100)\n",
        "#Muestra para dos columnas\n",
        "acci[[\"Start_Time\", \"End_Time\"]].sample(n=12)\n"
      ],
      "execution_count": null,
      "outputs": [
        {
          "data": {
            "text/html": [
              "<div>\n",
              "<style scoped>\n",
              "    .dataframe tbody tr th:only-of-type {\n",
              "        vertical-align: middle;\n",
              "    }\n",
              "\n",
              "    .dataframe tbody tr th {\n",
              "        vertical-align: top;\n",
              "    }\n",
              "\n",
              "    .dataframe thead th {\n",
              "        text-align: right;\n",
              "    }\n",
              "</style>\n",
              "<table border=\"1\" class=\"dataframe\">\n",
              "  <thead>\n",
              "    <tr style=\"text-align: right;\">\n",
              "      <th></th>\n",
              "      <th>Start_Time</th>\n",
              "      <th>End_Time</th>\n",
              "    </tr>\n",
              "  </thead>\n",
              "  <tbody>\n",
              "    <tr>\n",
              "      <th>857942</th>\n",
              "      <td>2020-03-16 19:38:47</td>\n",
              "      <td>2020-03-16 20:08:08</td>\n",
              "    </tr>\n",
              "    <tr>\n",
              "      <th>1433187</th>\n",
              "      <td>2017-08-11 19:32:15</td>\n",
              "      <td>2017-08-12 01:32:15</td>\n",
              "    </tr>\n",
              "    <tr>\n",
              "      <th>886078</th>\n",
              "      <td>2020-03-30 17:09:03</td>\n",
              "      <td>2020-03-30 17:54:03</td>\n",
              "    </tr>\n",
              "    <tr>\n",
              "      <th>608738</th>\n",
              "      <td>2020-11-11 03:38:00</td>\n",
              "      <td>2020-11-11 06:05:15</td>\n",
              "    </tr>\n",
              "    <tr>\n",
              "      <th>850391</th>\n",
              "      <td>2020-03-10 08:24:00</td>\n",
              "      <td>2020-03-10 09:16:59</td>\n",
              "    </tr>\n",
              "    <tr>\n",
              "      <th>1171196</th>\n",
              "      <td>2019-03-22 07:20:27</td>\n",
              "      <td>2019-03-22 07:48:03</td>\n",
              "    </tr>\n",
              "    <tr>\n",
              "      <th>1284921</th>\n",
              "      <td>2018-08-08 07:58:49</td>\n",
              "      <td>2018-08-08 13:58:49</td>\n",
              "    </tr>\n",
              "    <tr>\n",
              "      <th>1180193</th>\n",
              "      <td>2019-02-05 07:26:58</td>\n",
              "      <td>2019-02-05 07:56:49</td>\n",
              "    </tr>\n",
              "    <tr>\n",
              "      <th>192202</th>\n",
              "      <td>2017-05-04 16:29:42</td>\n",
              "      <td>2017-05-04 22:29:42</td>\n",
              "    </tr>\n",
              "    <tr>\n",
              "      <th>155686</th>\n",
              "      <td>2017-03-06 22:56:54</td>\n",
              "      <td>2017-03-07 04:56:54</td>\n",
              "    </tr>\n",
              "    <tr>\n",
              "      <th>1321443</th>\n",
              "      <td>2018-05-14 15:27:03</td>\n",
              "      <td>2018-05-14 21:27:03</td>\n",
              "    </tr>\n",
              "    <tr>\n",
              "      <th>1115540</th>\n",
              "      <td>2019-11-09 00:21:00</td>\n",
              "      <td>2019-11-09 03:34:16</td>\n",
              "    </tr>\n",
              "  </tbody>\n",
              "</table>\n",
              "</div>"
            ],
            "text/plain": [
              "                  Start_Time             End_Time\n",
              "857942   2020-03-16 19:38:47  2020-03-16 20:08:08\n",
              "1433187  2017-08-11 19:32:15  2017-08-12 01:32:15\n",
              "886078   2020-03-30 17:09:03  2020-03-30 17:54:03\n",
              "608738   2020-11-11 03:38:00  2020-11-11 06:05:15\n",
              "850391   2020-03-10 08:24:00  2020-03-10 09:16:59\n",
              "1171196  2019-03-22 07:20:27  2019-03-22 07:48:03\n",
              "1284921  2018-08-08 07:58:49  2018-08-08 13:58:49\n",
              "1180193  2019-02-05 07:26:58  2019-02-05 07:56:49\n",
              "192202   2017-05-04 16:29:42  2017-05-04 22:29:42\n",
              "155686   2017-03-06 22:56:54  2017-03-07 04:56:54\n",
              "1321443  2018-05-14 15:27:03  2018-05-14 21:27:03\n",
              "1115540  2019-11-09 00:21:00  2019-11-09 03:34:16"
            ]
          },
          "execution_count": 8,
          "metadata": {},
          "output_type": "execute_result"
        }
      ]
    },
    {
      "cell_type": "code",
      "metadata": {
        "id": "zEIlWTXXcBZq",
        "outputId": "c8aaa321-f7da-4237-83b5-a88aa12cf1d3"
      },
      "source": [
        "acci.Start_Time = pd.to_datetime(acci.Start_Time)\n",
        "acci.End_Time=pd.to_datetime(acci.End_Time)\n",
        "acci.info()\n"
      ],
      "execution_count": null,
      "outputs": [
        {
          "name": "stdout",
          "output_type": "stream",
          "text": [
            "<class 'pandas.core.frame.DataFrame'>\n",
            "RangeIndex: 1516064 entries, 0 to 1516063\n",
            "Data columns (total 47 columns):\n",
            " #   Column                 Non-Null Count    Dtype         \n",
            "---  ------                 --------------    -----         \n",
            " 0   ID                     1516064 non-null  object        \n",
            " 1   Severity               1516064 non-null  int64         \n",
            " 2   Start_Time             1516064 non-null  datetime64[ns]\n",
            " 3   End_Time               1516064 non-null  datetime64[ns]\n",
            " 4   Start_Lat              1516064 non-null  float64       \n",
            " 5   Start_Lng              1516064 non-null  float64       \n",
            " 6   End_Lat                1516064 non-null  float64       \n",
            " 7   End_Lng                1516064 non-null  float64       \n",
            " 8   Distance(mi)           1516064 non-null  float64       \n",
            " 9   Description            1516064 non-null  object        \n",
            " 10  Number                 469969 non-null   float64       \n",
            " 11  Street                 1516064 non-null  object        \n",
            " 12  Side                   1516064 non-null  object        \n",
            " 13  City                   1515981 non-null  object        \n",
            " 14  County                 1516064 non-null  object        \n",
            " 15  State                  1516064 non-null  object        \n",
            " 16  Zipcode                1515129 non-null  object        \n",
            " 17  Country                1516064 non-null  object        \n",
            " 18  Timezone               1513762 non-null  object        \n",
            " 19  Airport_Code           1511816 non-null  object        \n",
            " 20  Weather_Timestamp      1485800 non-null  object        \n",
            " 21  Temperature(F)         1473031 non-null  float64       \n",
            " 22  Wind_Chill(F)          1066748 non-null  float64       \n",
            " 23  Humidity(%)            1470555 non-null  float64       \n",
            " 24  Pressure(in)           1479790 non-null  float64       \n",
            " 25  Visibility(mi)         1471853 non-null  float64       \n",
            " 26  Wind_Direction         1474206 non-null  object        \n",
            " 27  Wind_Speed(mph)        1387202 non-null  float64       \n",
            " 28  Precipitation(in)      1005515 non-null  float64       \n",
            " 29  Weather_Condition      1472057 non-null  object        \n",
            " 30  Amenity                1516064 non-null  bool          \n",
            " 31  Bump                   1516064 non-null  bool          \n",
            " 32  Crossing               1516064 non-null  bool          \n",
            " 33  Give_Way               1516064 non-null  bool          \n",
            " 34  Junction               1516064 non-null  bool          \n",
            " 35  No_Exit                1516064 non-null  bool          \n",
            " 36  Railway                1516064 non-null  bool          \n",
            " 37  Roundabout             1516064 non-null  bool          \n",
            " 38  Station                1516064 non-null  bool          \n",
            " 39  Stop                   1516064 non-null  bool          \n",
            " 40  Traffic_Calming        1516064 non-null  bool          \n",
            " 41  Traffic_Signal         1516064 non-null  bool          \n",
            " 42  Turning_Loop           1516064 non-null  bool          \n",
            " 43  Sunrise_Sunset         1515981 non-null  object        \n",
            " 44  Civil_Twilight         1515981 non-null  object        \n",
            " 45  Nautical_Twilight      1515981 non-null  object        \n",
            " 46  Astronomical_Twilight  1515981 non-null  object        \n",
            "dtypes: bool(13), datetime64[ns](2), float64(13), int64(1), object(18)\n",
            "memory usage: 412.1+ MB\n"
          ]
        }
      ]
    },
    {
      "cell_type": "code",
      "metadata": {
        "id": "m5HRDS4hcBZr",
        "outputId": "79dcd68b-20cb-422b-852c-e8d815556661"
      },
      "source": [
        "acci['DeltaT']=acci.End_Time-acci.Start_Time\n",
        "acci[[\"Start_Time\",\"End_Time\",\"DeltaT\"]].sample(n=20)\n"
      ],
      "execution_count": null,
      "outputs": [
        {
          "data": {
            "text/html": [
              "<div>\n",
              "<style scoped>\n",
              "    .dataframe tbody tr th:only-of-type {\n",
              "        vertical-align: middle;\n",
              "    }\n",
              "\n",
              "    .dataframe tbody tr th {\n",
              "        vertical-align: top;\n",
              "    }\n",
              "\n",
              "    .dataframe thead th {\n",
              "        text-align: right;\n",
              "    }\n",
              "</style>\n",
              "<table border=\"1\" class=\"dataframe\">\n",
              "  <thead>\n",
              "    <tr style=\"text-align: right;\">\n",
              "      <th></th>\n",
              "      <th>Start_Time</th>\n",
              "      <th>End_Time</th>\n",
              "      <th>DeltaT</th>\n",
              "    </tr>\n",
              "  </thead>\n",
              "  <tbody>\n",
              "    <tr>\n",
              "      <th>146209</th>\n",
              "      <td>2017-01-31 06:32:59</td>\n",
              "      <td>2017-01-31 12:32:59</td>\n",
              "      <td>0 days 06:00:00</td>\n",
              "    </tr>\n",
              "    <tr>\n",
              "      <th>206952</th>\n",
              "      <td>2017-05-31 08:34:10</td>\n",
              "      <td>2017-05-31 14:34:10</td>\n",
              "      <td>0 days 06:00:00</td>\n",
              "    </tr>\n",
              "    <tr>\n",
              "      <th>1091625</th>\n",
              "      <td>2019-10-22 17:14:00</td>\n",
              "      <td>2019-10-22 17:49:32</td>\n",
              "      <td>0 days 00:35:32</td>\n",
              "    </tr>\n",
              "    <tr>\n",
              "      <th>174029</th>\n",
              "      <td>2017-02-14 11:28:52</td>\n",
              "      <td>2017-02-14 17:28:52</td>\n",
              "      <td>0 days 06:00:00</td>\n",
              "    </tr>\n",
              "    <tr>\n",
              "      <th>660500</th>\n",
              "      <td>2020-12-10 18:21:00</td>\n",
              "      <td>2020-12-10 21:41:11</td>\n",
              "      <td>0 days 03:20:11</td>\n",
              "    </tr>\n",
              "    <tr>\n",
              "      <th>263373</th>\n",
              "      <td>2020-09-19 19:12:00</td>\n",
              "      <td>2020-09-19 22:34:38</td>\n",
              "      <td>0 days 03:22:38</td>\n",
              "    </tr>\n",
              "    <tr>\n",
              "      <th>493683</th>\n",
              "      <td>2020-11-23 02:35:00</td>\n",
              "      <td>2020-11-23 04:13:23</td>\n",
              "      <td>0 days 01:38:23</td>\n",
              "    </tr>\n",
              "    <tr>\n",
              "      <th>1067196</th>\n",
              "      <td>2019-10-03 16:35:00</td>\n",
              "      <td>2019-10-03 18:56:01</td>\n",
              "      <td>0 days 02:21:01</td>\n",
              "    </tr>\n",
              "    <tr>\n",
              "      <th>1161663</th>\n",
              "      <td>2019-09-16 19:35:00</td>\n",
              "      <td>2019-09-16 21:28:37</td>\n",
              "      <td>0 days 01:53:37</td>\n",
              "    </tr>\n",
              "    <tr>\n",
              "      <th>1095350</th>\n",
              "      <td>2019-10-25 12:12:00</td>\n",
              "      <td>2019-10-25 13:05:45</td>\n",
              "      <td>0 days 00:53:45</td>\n",
              "    </tr>\n",
              "    <tr>\n",
              "      <th>1304541</th>\n",
              "      <td>2018-07-26 17:25:35</td>\n",
              "      <td>2018-07-26 23:25:35</td>\n",
              "      <td>0 days 06:00:00</td>\n",
              "    </tr>\n",
              "    <tr>\n",
              "      <th>258392</th>\n",
              "      <td>2020-11-28 00:10:31</td>\n",
              "      <td>2020-11-28 02:37:54</td>\n",
              "      <td>0 days 02:27:23</td>\n",
              "    </tr>\n",
              "    <tr>\n",
              "      <th>1203665</th>\n",
              "      <td>2019-01-16 05:59:11</td>\n",
              "      <td>2019-01-16 06:29:09</td>\n",
              "      <td>0 days 00:29:58</td>\n",
              "    </tr>\n",
              "    <tr>\n",
              "      <th>196731</th>\n",
              "      <td>2017-04-26 13:34:26</td>\n",
              "      <td>2017-04-26 19:34:26</td>\n",
              "      <td>0 days 06:00:00</td>\n",
              "    </tr>\n",
              "    <tr>\n",
              "      <th>54538</th>\n",
              "      <td>2016-11-04 07:58:28</td>\n",
              "      <td>2016-11-04 13:58:28</td>\n",
              "      <td>0 days 06:00:00</td>\n",
              "    </tr>\n",
              "    <tr>\n",
              "      <th>1268830</th>\n",
              "      <td>2018-09-04 06:42:36</td>\n",
              "      <td>2018-09-04 07:12:11</td>\n",
              "      <td>0 days 00:29:35</td>\n",
              "    </tr>\n",
              "    <tr>\n",
              "      <th>343490</th>\n",
              "      <td>2020-11-11 17:39:30</td>\n",
              "      <td>2020-11-12 02:54:30</td>\n",
              "      <td>0 days 09:15:00</td>\n",
              "    </tr>\n",
              "    <tr>\n",
              "      <th>96730</th>\n",
              "      <td>2016-07-28 23:10:58</td>\n",
              "      <td>2016-07-29 05:10:58</td>\n",
              "      <td>0 days 06:00:00</td>\n",
              "    </tr>\n",
              "    <tr>\n",
              "      <th>261873</th>\n",
              "      <td>2020-10-10 15:52:00</td>\n",
              "      <td>2020-10-10 20:59:38</td>\n",
              "      <td>0 days 05:07:38</td>\n",
              "    </tr>\n",
              "    <tr>\n",
              "      <th>395115</th>\n",
              "      <td>2020-11-14 17:20:00</td>\n",
              "      <td>2020-11-14 19:00:33</td>\n",
              "      <td>0 days 01:40:33</td>\n",
              "    </tr>\n",
              "  </tbody>\n",
              "</table>\n",
              "</div>"
            ],
            "text/plain": [
              "                 Start_Time            End_Time          DeltaT\n",
              "146209  2017-01-31 06:32:59 2017-01-31 12:32:59 0 days 06:00:00\n",
              "206952  2017-05-31 08:34:10 2017-05-31 14:34:10 0 days 06:00:00\n",
              "1091625 2019-10-22 17:14:00 2019-10-22 17:49:32 0 days 00:35:32\n",
              "174029  2017-02-14 11:28:52 2017-02-14 17:28:52 0 days 06:00:00\n",
              "660500  2020-12-10 18:21:00 2020-12-10 21:41:11 0 days 03:20:11\n",
              "263373  2020-09-19 19:12:00 2020-09-19 22:34:38 0 days 03:22:38\n",
              "493683  2020-11-23 02:35:00 2020-11-23 04:13:23 0 days 01:38:23\n",
              "1067196 2019-10-03 16:35:00 2019-10-03 18:56:01 0 days 02:21:01\n",
              "1161663 2019-09-16 19:35:00 2019-09-16 21:28:37 0 days 01:53:37\n",
              "1095350 2019-10-25 12:12:00 2019-10-25 13:05:45 0 days 00:53:45\n",
              "1304541 2018-07-26 17:25:35 2018-07-26 23:25:35 0 days 06:00:00\n",
              "258392  2020-11-28 00:10:31 2020-11-28 02:37:54 0 days 02:27:23\n",
              "1203665 2019-01-16 05:59:11 2019-01-16 06:29:09 0 days 00:29:58\n",
              "196731  2017-04-26 13:34:26 2017-04-26 19:34:26 0 days 06:00:00\n",
              "54538   2016-11-04 07:58:28 2016-11-04 13:58:28 0 days 06:00:00\n",
              "1268830 2018-09-04 06:42:36 2018-09-04 07:12:11 0 days 00:29:35\n",
              "343490  2020-11-11 17:39:30 2020-11-12 02:54:30 0 days 09:15:00\n",
              "96730   2016-07-28 23:10:58 2016-07-29 05:10:58 0 days 06:00:00\n",
              "261873  2020-10-10 15:52:00 2020-10-10 20:59:38 0 days 05:07:38\n",
              "395115  2020-11-14 17:20:00 2020-11-14 19:00:33 0 days 01:40:33"
            ]
          },
          "execution_count": 10,
          "metadata": {},
          "output_type": "execute_result"
        }
      ]
    },
    {
      "cell_type": "code",
      "metadata": {
        "id": "I0klvweEcBZr",
        "outputId": "3d774706-f429-4985-c117-ce013aeab36b"
      },
      "source": [
        "str(acci.DeltaT[0])[7:]\n",
        "\n"
      ],
      "execution_count": null,
      "outputs": [
        {
          "data": {
            "text/plain": [
              "'06:00:00'"
            ]
          },
          "execution_count": 11,
          "metadata": {},
          "output_type": "execute_result"
        }
      ]
    },
    {
      "cell_type": "code",
      "metadata": {
        "id": "Wzfd4TVacBZs",
        "outputId": "b9938e19-8ad3-4c70-8b73-5c0f18f64817"
      },
      "source": [
        "deltattype = acci.dtypes[\"DeltaT\"]\n",
        "deltattype\n",
        "\n",
        "acci.DeltaT.sample(10)\n",
        "\n",
        "acci.DeltaT=acci.DeltaT.dt.seconds/(60*60)\n",
        "acci.DeltaT.sample(10)"
      ],
      "execution_count": null,
      "outputs": [
        {
          "data": {
            "text/plain": [
              "166632     6.000000\n",
              "1221834    1.000000\n",
              "100594     6.000000\n",
              "768970     0.500000\n",
              "671551     2.700278\n",
              "1404118    6.000000\n",
              "917621     0.750000\n",
              "545678     1.050000\n",
              "501276     0.741667\n",
              "1471794    0.460556\n",
              "Name: DeltaT, dtype: float64"
            ]
          },
          "execution_count": 12,
          "metadata": {},
          "output_type": "execute_result"
        }
      ]
    },
    {
      "cell_type": "code",
      "metadata": {
        "id": "0iPbGTD6cBZt",
        "outputId": "1797fd9f-c22e-4da5-ee76-84be44f5fb8d"
      },
      "source": [
        "# ==============================================================\n",
        "#  Construyendo las columnas que almacenen la información de\n",
        "#  Año, mes, dia y hora.\n",
        "# ==============================================================\n",
        "#Nuevas columnas para Start_Time\n",
        "acci[\"Start_Time_YEAR\"] = acci[\"Start_Time\"].dt.year\n",
        "acci[\"Start_Time_MONTH\"] = acci[\"Start_Time\"].dt.month\n",
        "acci[\"Start_Time_DAY\"] = acci[\"Start_Time\"].dt.day\n",
        "acci[\"Start_Time_HOUR\"] = acci[\"Start_Time\"].dt.strftime(\"%H:%M:%S\")\n",
        "\n",
        "acci[[\"Start_Time_YEAR\",\"Start_Time_MONTH\",\"Start_Time_HOUR\"]].sample(n=10)\n",
        "\n",
        "#Nuevas columnas para End_Time\n",
        "acci[\"End_Time_YEAR\"] = acci[\"End_Time\"].dt.year\n",
        "acci[\"End_Time_MONTH\"] = acci[\"End_Time\"].dt.month\n",
        "acci[\"End_Time_DAY\"] = acci[\"End_Time\"].dt.day\n",
        "acci[\"End_Time_HOUR\"] = acci[\"End_Time\"].dt.strftime(\"%H:%M:%S\")\n",
        "\n",
        "acci[['Start_Time_HOUR', 'End_Time_HOUR']].sample(n=10)"
      ],
      "execution_count": null,
      "outputs": [
        {
          "data": {
            "text/html": [
              "<div>\n",
              "<style scoped>\n",
              "    .dataframe tbody tr th:only-of-type {\n",
              "        vertical-align: middle;\n",
              "    }\n",
              "\n",
              "    .dataframe tbody tr th {\n",
              "        vertical-align: top;\n",
              "    }\n",
              "\n",
              "    .dataframe thead th {\n",
              "        text-align: right;\n",
              "    }\n",
              "</style>\n",
              "<table border=\"1\" class=\"dataframe\">\n",
              "  <thead>\n",
              "    <tr style=\"text-align: right;\">\n",
              "      <th></th>\n",
              "      <th>Start_Time_HOUR</th>\n",
              "      <th>End_Time_HOUR</th>\n",
              "    </tr>\n",
              "  </thead>\n",
              "  <tbody>\n",
              "    <tr>\n",
              "      <th>221841</th>\n",
              "      <td>09:15:17</td>\n",
              "      <td>15:15:17</td>\n",
              "    </tr>\n",
              "    <tr>\n",
              "      <th>260838</th>\n",
              "      <td>21:45:00</td>\n",
              "      <td>00:00:14</td>\n",
              "    </tr>\n",
              "    <tr>\n",
              "      <th>817143</th>\n",
              "      <td>13:40:00</td>\n",
              "      <td>14:34:43</td>\n",
              "    </tr>\n",
              "    <tr>\n",
              "      <th>40057</th>\n",
              "      <td>23:28:17</td>\n",
              "      <td>05:28:17</td>\n",
              "    </tr>\n",
              "    <tr>\n",
              "      <th>423028</th>\n",
              "      <td>01:06:00</td>\n",
              "      <td>03:09:35</td>\n",
              "    </tr>\n",
              "    <tr>\n",
              "      <th>904970</th>\n",
              "      <td>22:19:26</td>\n",
              "      <td>02:19:26</td>\n",
              "    </tr>\n",
              "    <tr>\n",
              "      <th>545364</th>\n",
              "      <td>18:37:00</td>\n",
              "      <td>20:37:44</td>\n",
              "    </tr>\n",
              "    <tr>\n",
              "      <th>1229540</th>\n",
              "      <td>11:27:47</td>\n",
              "      <td>15:27:47</td>\n",
              "    </tr>\n",
              "    <tr>\n",
              "      <th>65317</th>\n",
              "      <td>07:30:45</td>\n",
              "      <td>13:30:45</td>\n",
              "    </tr>\n",
              "    <tr>\n",
              "      <th>719085</th>\n",
              "      <td>18:13:39</td>\n",
              "      <td>18:28:39</td>\n",
              "    </tr>\n",
              "  </tbody>\n",
              "</table>\n",
              "</div>"
            ],
            "text/plain": [
              "        Start_Time_HOUR End_Time_HOUR\n",
              "221841         09:15:17      15:15:17\n",
              "260838         21:45:00      00:00:14\n",
              "817143         13:40:00      14:34:43\n",
              "40057          23:28:17      05:28:17\n",
              "423028         01:06:00      03:09:35\n",
              "904970         22:19:26      02:19:26\n",
              "545364         18:37:00      20:37:44\n",
              "1229540        11:27:47      15:27:47\n",
              "65317          07:30:45      13:30:45\n",
              "719085         18:13:39      18:28:39"
            ]
          },
          "execution_count": 13,
          "metadata": {},
          "output_type": "execute_result"
        }
      ]
    },
    {
      "cell_type": "code",
      "metadata": {
        "id": "HPSKfU8tcBZu",
        "outputId": "39b2ed5c-d3bd-443a-e040-1caa49c1a301"
      },
      "source": [
        "\n",
        "dir(acci.State)\n",
        "tenStates=acci.State.value_counts().head(10)\n",
        "tenStates.index\n",
        "\n",
        "# Nuevo dataframe para hacer el analisis descriptivo\n",
        "\n",
        "accTenST=acci[acci.State.isin(tenStates.index)]\n",
        "accTenST\n",
        "\n",
        "import numpy as np\n",
        "np.unique(accTenST.State)\n",
        "\n",
        "import seaborn as sns\n",
        "sns.barplot(data=accTenST, x=\"Distance(mi)\", y=\"State\")\n",
        "\n"
      ],
      "execution_count": null,
      "outputs": [
        {
          "data": {
            "text/plain": [
              "<AxesSubplot:xlabel='Distance(mi)', ylabel='State'>"
            ]
          },
          "execution_count": 14,
          "metadata": {},
          "output_type": "execute_result"
        },
        {
          "data": {
            "image/png": "[encoded data removed]",
            "text/plain": [
              "<Figure size 432x288 with 1 Axes>"
            ]
          },
          "metadata": {
            "needs_background": "light"
          },
          "output_type": "display_data"
        }
      ]
    },
    {
      "cell_type": "code",
      "metadata": {
        "colab": {
          "base_uri": "https://localhost:8080/",
          "height": 229
        },
        "id": "G5OQ8pWxcBZu",
        "outputId": "113115fd-4fb1-4b2a-a9cc-34623cdf07fd"
      },
      "source": [
        "import matplotlib.pyplot as plt\n",
        "import seaborn as sns\n",
        "dir(acci.Timezone)\n",
        "acci.Timezone.unique()\n",
        "acci.Severity.unique()\n",
        "\n",
        "grouped=acci.groupby(['Timezone','Severity']).size()\n",
        "grouped_df=grouped.to_frame()\n",
        "gb_pivot=grouped_df.pivot_table(index='Timezone', columns='Severity')\n",
        "gb_pivot.plot.bar(figsize=(18 ,6))\n",
        "plot.show()"
      ],
      "execution_count": 1,
      "outputs": [
        {
          "output_type": "error",
          "ename": "NameError",
          "evalue": "ignored",
          "traceback": [
            "\u001b[0;31m---------------------------------------------------------------------------\u001b[0m",
            "\u001b[0;31mNameError\u001b[0m                                 Traceback (most recent call last)",
            "\u001b[0;32m<ipython-input-1-ec5f49255894>\u001b[0m in \u001b[0;36m<module>\u001b[0;34m()\u001b[0m\n\u001b[1;32m      1\u001b[0m \u001b[0;32mimport\u001b[0m \u001b[0mmatplotlib\u001b[0m\u001b[0;34m.\u001b[0m\u001b[0mpyplot\u001b[0m \u001b[0;32mas\u001b[0m \u001b[0mplt\u001b[0m\u001b[0;34m\u001b[0m\u001b[0;34m\u001b[0m\u001b[0m\n\u001b[1;32m      2\u001b[0m \u001b[0;32mimport\u001b[0m \u001b[0mseaborn\u001b[0m \u001b[0;32mas\u001b[0m \u001b[0msns\u001b[0m\u001b[0;34m\u001b[0m\u001b[0;34m\u001b[0m\u001b[0m\n\u001b[0;32m----> 3\u001b[0;31m \u001b[0mdir\u001b[0m\u001b[0;34m(\u001b[0m\u001b[0macci\u001b[0m\u001b[0;34m.\u001b[0m\u001b[0mTimezone\u001b[0m\u001b[0;34m)\u001b[0m\u001b[0;34m\u001b[0m\u001b[0;34m\u001b[0m\u001b[0m\n\u001b[0m\u001b[1;32m      4\u001b[0m \u001b[0macci\u001b[0m\u001b[0;34m.\u001b[0m\u001b[0mTimezone\u001b[0m\u001b[0;34m.\u001b[0m\u001b[0munique\u001b[0m\u001b[0;34m(\u001b[0m\u001b[0;34m)\u001b[0m\u001b[0;34m\u001b[0m\u001b[0;34m\u001b[0m\u001b[0m\n\u001b[1;32m      5\u001b[0m \u001b[0macci\u001b[0m\u001b[0;34m.\u001b[0m\u001b[0mSeverity\u001b[0m\u001b[0;34m.\u001b[0m\u001b[0munique\u001b[0m\u001b[0;34m(\u001b[0m\u001b[0;34m)\u001b[0m\u001b[0;34m\u001b[0m\u001b[0;34m\u001b[0m\u001b[0m\n",
            "\u001b[0;31mNameError\u001b[0m: name 'acci' is not defined"
          ]
        }
      ]
    },
    {
      "cell_type": "code",
      "metadata": {
        "id": "umSIiWZNcBZv",
        "outputId": "bb3f88a4-17d7-4b8b-ef7f-4ef1c75ab8be"
      },
      "source": [
        "from matplotlib import pyplot as plt\n",
        "import seaborn as sns\n",
        "dir(acci.Timezone)\n",
        "acci.Timezone.unique()\n",
        "acci.Severity.unique()\n",
        "\n",
        "grouped=acci.groupby(['Timezone','Severity']).size()\n",
        "grouped_df=grouped.to_frame()\n",
        "gb_pivot=grouped_df.pivot_table(index='Timezone', columns='Severity')\n",
        "gb_pivot.plot.bar(figsize=(18 ,6))\n",
        "plot.show()"
      ],
      "execution_count": null,
      "outputs": [
        {
          "ename": "NameError",
          "evalue": "name 'plot' is not defined",
          "output_type": "error",
          "traceback": [
            "\u001b[1;31m---------------------------------------------------------------------------\u001b[0m",
            "\u001b[1;31mNameError\u001b[0m                                 Traceback (most recent call last)",
            "\u001b[1;32mc:\\Users\\LighthouseLLC\\Desktop\\Econ\\_UNI_Python\\data\\data\\Pregunta1.py\u001b[0m in \u001b[0;36m<module>\u001b[1;34m\u001b[0m\n\u001b[0;32m      9\u001b[0m \u001b[0mgb_pivot\u001b[0m\u001b[1;33m=\u001b[0m\u001b[0mgrouped_df\u001b[0m\u001b[1;33m.\u001b[0m\u001b[0mpivot_table\u001b[0m\u001b[1;33m(\u001b[0m\u001b[0mindex\u001b[0m\u001b[1;33m=\u001b[0m\u001b[1;34m'Timezone'\u001b[0m\u001b[1;33m,\u001b[0m \u001b[0mcolumns\u001b[0m\u001b[1;33m=\u001b[0m\u001b[1;34m'Severity'\u001b[0m\u001b[1;33m)\u001b[0m\u001b[1;33m\u001b[0m\u001b[1;33m\u001b[0m\u001b[0m\n\u001b[0;32m     10\u001b[0m \u001b[0mgb_pivot\u001b[0m\u001b[1;33m.\u001b[0m\u001b[0mplot\u001b[0m\u001b[1;33m.\u001b[0m\u001b[0mbar\u001b[0m\u001b[1;33m(\u001b[0m\u001b[0mfigsize\u001b[0m\u001b[1;33m=\u001b[0m\u001b[1;33m(\u001b[0m\u001b[1;36m18\u001b[0m \u001b[1;33m,\u001b[0m\u001b[1;36m6\u001b[0m\u001b[1;33m)\u001b[0m\u001b[1;33m)\u001b[0m\u001b[1;33m\u001b[0m\u001b[1;33m\u001b[0m\u001b[0m\n\u001b[1;32m---> 11\u001b[1;33m \u001b[0mplot\u001b[0m\u001b[1;33m.\u001b[0m\u001b[0mshow\u001b[0m\u001b[1;33m(\u001b[0m\u001b[1;33m)\u001b[0m\u001b[1;33m\u001b[0m\u001b[1;33m\u001b[0m\u001b[0m\n\u001b[0m",
            "\u001b[1;31mNameError\u001b[0m: name 'plot' is not defined"
          ]
        },
        {
          "data": {
            "image/png": "[encoded data removed]",
            "text/plain": [
              "<Figure size 1296x432 with 1 Axes>"
            ]
          },
          "metadata": {
            "needs_background": "light"
          },
          "output_type": "display_data"
        }
      ]
    },
    {
      "cell_type": "code",
      "metadata": {
        "id": "gSh7tVs-cBZw",
        "outputId": "311ce776-165d-4bc6-a335-70ec10c18ef3"
      },
      "source": [
        "\n",
        "acci[['Start_Time_HOUR', 'End_Time_HOUR']].sample(n=10)"
      ],
      "execution_count": null,
      "outputs": [
        {
          "data": {
            "text/html": [
              "<div>\n",
              "<style scoped>\n",
              "    .dataframe tbody tr th:only-of-type {\n",
              "        vertical-align: middle;\n",
              "    }\n",
              "\n",
              "    .dataframe tbody tr th {\n",
              "        vertical-align: top;\n",
              "    }\n",
              "\n",
              "    .dataframe thead th {\n",
              "        text-align: right;\n",
              "    }\n",
              "</style>\n",
              "<table border=\"1\" class=\"dataframe\">\n",
              "  <thead>\n",
              "    <tr style=\"text-align: right;\">\n",
              "      <th></th>\n",
              "      <th>Start_Time_HOUR</th>\n",
              "      <th>End_Time_HOUR</th>\n",
              "    </tr>\n",
              "  </thead>\n",
              "  <tbody>\n",
              "    <tr>\n",
              "      <th>810537</th>\n",
              "      <td>13:09:26</td>\n",
              "      <td>14:29:24</td>\n",
              "    </tr>\n",
              "    <tr>\n",
              "      <th>1008308</th>\n",
              "      <td>17:09:00</td>\n",
              "      <td>17:45:47</td>\n",
              "    </tr>\n",
              "    <tr>\n",
              "      <th>1510615</th>\n",
              "      <td>19:39:33</td>\n",
              "      <td>20:08:48</td>\n",
              "    </tr>\n",
              "    <tr>\n",
              "      <th>863305</th>\n",
              "      <td>18:07:37</td>\n",
              "      <td>18:22:37</td>\n",
              "    </tr>\n",
              "    <tr>\n",
              "      <th>756817</th>\n",
              "      <td>13:39:59</td>\n",
              "      <td>13:54:59</td>\n",
              "    </tr>\n",
              "    <tr>\n",
              "      <th>1201619</th>\n",
              "      <td>08:41:00</td>\n",
              "      <td>10:00:00</td>\n",
              "    </tr>\n",
              "    <tr>\n",
              "      <th>70931</th>\n",
              "      <td>11:12:01</td>\n",
              "      <td>17:12:01</td>\n",
              "    </tr>\n",
              "    <tr>\n",
              "      <th>1470521</th>\n",
              "      <td>11:07:45</td>\n",
              "      <td>11:37:39</td>\n",
              "    </tr>\n",
              "    <tr>\n",
              "      <th>939283</th>\n",
              "      <td>09:44:59</td>\n",
              "      <td>11:04:57</td>\n",
              "    </tr>\n",
              "    <tr>\n",
              "      <th>608823</th>\n",
              "      <td>16:24:00</td>\n",
              "      <td>18:19:35</td>\n",
              "    </tr>\n",
              "  </tbody>\n",
              "</table>\n",
              "</div>"
            ],
            "text/plain": [
              "        Start_Time_HOUR End_Time_HOUR\n",
              "810537         13:09:26      14:29:24\n",
              "1008308        17:09:00      17:45:47\n",
              "1510615        19:39:33      20:08:48\n",
              "863305         18:07:37      18:22:37\n",
              "756817         13:39:59      13:54:59\n",
              "1201619        08:41:00      10:00:00\n",
              "70931          11:12:01      17:12:01\n",
              "1470521        11:07:45      11:37:39\n",
              "939283         09:44:59      11:04:57\n",
              "608823         16:24:00      18:19:35"
            ]
          },
          "execution_count": 24,
          "metadata": {},
          "output_type": "execute_result"
        }
      ]
    },
    {
      "cell_type": "code",
      "metadata": {
        "id": "uMK0Yww9cBZx",
        "outputId": "93206e81-36b5-40c0-ec9a-41c286ea1fdf"
      },
      "source": [
        "acci.columns"
      ],
      "execution_count": null,
      "outputs": [
        {
          "data": {
            "text/plain": [
              "Index(['ID', 'Severity', 'Start_Time', 'End_Time', 'Start_Lat', 'Start_Lng',\n",
              "       'End_Lat', 'End_Lng', 'Distance(mi)', 'Description', 'Number', 'Street',\n",
              "       'Side', 'City', 'County', 'State', 'Zipcode', 'Country', 'Timezone',\n",
              "       'Airport_Code', 'Weather_Timestamp', 'Temperature(F)', 'Wind_Chill(F)',\n",
              "       'Humidity(%)', 'Pressure(in)', 'Visibility(mi)', 'Wind_Direction',\n",
              "       'Wind_Speed(mph)', 'Precipitation(in)', 'Weather_Condition', 'Amenity',\n",
              "       'Bump', 'Crossing', 'Give_Way', 'Junction', 'No_Exit', 'Railway',\n",
              "       'Roundabout', 'Station', 'Stop', 'Traffic_Calming', 'Traffic_Signal',\n",
              "       'Turning_Loop', 'Sunrise_Sunset', 'Civil_Twilight', 'Nautical_Twilight',\n",
              "       'Astronomical_Twilight', 'DeltaT', 'Start_Time_YEAR',\n",
              "       'Start_Time_MONTH', 'Start_Time_DAY', 'Start_Time_HOUR',\n",
              "       'End_Time_YEAR', 'End_Time_MONTH', 'End_Time_DAY', 'End_Time_HOUR'],\n",
              "      dtype='object')"
            ]
          },
          "execution_count": 25,
          "metadata": {},
          "output_type": "execute_result"
        }
      ]
    },
    {
      "cell_type": "code",
      "metadata": {
        "id": "jL7V4bv3cBZx",
        "outputId": "c79d91de-0544-4d50-a8ae-7b58b0f3e0e5"
      },
      "source": [
        "\n",
        "acci[['Start_Time_YEAR', 'Temperature(F)', 'Wind_Chill(F)',\n",
        "       'Humidity(%)', 'Pressure(in)']].sample(n=10)"
      ],
      "execution_count": null,
      "outputs": [
        {
          "data": {
            "text/html": [
              "<div>\n",
              "<style scoped>\n",
              "    .dataframe tbody tr th:only-of-type {\n",
              "        vertical-align: middle;\n",
              "    }\n",
              "\n",
              "    .dataframe tbody tr th {\n",
              "        vertical-align: top;\n",
              "    }\n",
              "\n",
              "    .dataframe thead th {\n",
              "        text-align: right;\n",
              "    }\n",
              "</style>\n",
              "<table border=\"1\" class=\"dataframe\">\n",
              "  <thead>\n",
              "    <tr style=\"text-align: right;\">\n",
              "      <th></th>\n",
              "      <th>Start_Time_YEAR</th>\n",
              "      <th>Temperature(F)</th>\n",
              "      <th>Wind_Chill(F)</th>\n",
              "      <th>Humidity(%)</th>\n",
              "      <th>Pressure(in)</th>\n",
              "    </tr>\n",
              "  </thead>\n",
              "  <tbody>\n",
              "    <tr>\n",
              "      <th>135943</th>\n",
              "      <td>2016</td>\n",
              "      <td>68.0</td>\n",
              "      <td>68.0</td>\n",
              "      <td>73.0</td>\n",
              "      <td>29.13</td>\n",
              "    </tr>\n",
              "    <tr>\n",
              "      <th>592548</th>\n",
              "      <td>2020</td>\n",
              "      <td>63.0</td>\n",
              "      <td>63.0</td>\n",
              "      <td>28.0</td>\n",
              "      <td>29.72</td>\n",
              "    </tr>\n",
              "    <tr>\n",
              "      <th>837767</th>\n",
              "      <td>2020</td>\n",
              "      <td>84.0</td>\n",
              "      <td>84.0</td>\n",
              "      <td>34.0</td>\n",
              "      <td>29.15</td>\n",
              "    </tr>\n",
              "    <tr>\n",
              "      <th>12562</th>\n",
              "      <td>2016</td>\n",
              "      <td>46.0</td>\n",
              "      <td>39.6</td>\n",
              "      <td>38.0</td>\n",
              "      <td>29.58</td>\n",
              "    </tr>\n",
              "    <tr>\n",
              "      <th>277227</th>\n",
              "      <td>2020</td>\n",
              "      <td>57.0</td>\n",
              "      <td>57.0</td>\n",
              "      <td>82.0</td>\n",
              "      <td>29.45</td>\n",
              "    </tr>\n",
              "    <tr>\n",
              "      <th>828416</th>\n",
              "      <td>2020</td>\n",
              "      <td>87.0</td>\n",
              "      <td>87.0</td>\n",
              "      <td>7.0</td>\n",
              "      <td>26.75</td>\n",
              "    </tr>\n",
              "    <tr>\n",
              "      <th>406461</th>\n",
              "      <td>2020</td>\n",
              "      <td>55.0</td>\n",
              "      <td>55.0</td>\n",
              "      <td>88.0</td>\n",
              "      <td>27.22</td>\n",
              "    </tr>\n",
              "    <tr>\n",
              "      <th>1206166</th>\n",
              "      <td>2019</td>\n",
              "      <td>34.0</td>\n",
              "      <td>24.2</td>\n",
              "      <td>92.0</td>\n",
              "      <td>29.80</td>\n",
              "    </tr>\n",
              "    <tr>\n",
              "      <th>296808</th>\n",
              "      <td>2020</td>\n",
              "      <td>68.0</td>\n",
              "      <td>68.0</td>\n",
              "      <td>87.0</td>\n",
              "      <td>28.76</td>\n",
              "    </tr>\n",
              "    <tr>\n",
              "      <th>1461734</th>\n",
              "      <td>2019</td>\n",
              "      <td>79.0</td>\n",
              "      <td>79.0</td>\n",
              "      <td>17.0</td>\n",
              "      <td>24.62</td>\n",
              "    </tr>\n",
              "  </tbody>\n",
              "</table>\n",
              "</div>"
            ],
            "text/plain": [
              "         Start_Time_YEAR  Temperature(F)  Wind_Chill(F)  Humidity(%)  \\\n",
              "135943              2016            68.0           68.0         73.0   \n",
              "592548              2020            63.0           63.0         28.0   \n",
              "837767              2020            84.0           84.0         34.0   \n",
              "12562               2016            46.0           39.6         38.0   \n",
              "277227              2020            57.0           57.0         82.0   \n",
              "828416              2020            87.0           87.0          7.0   \n",
              "406461              2020            55.0           55.0         88.0   \n",
              "1206166             2019            34.0           24.2         92.0   \n",
              "296808              2020            68.0           68.0         87.0   \n",
              "1461734             2019            79.0           79.0         17.0   \n",
              "\n",
              "         Pressure(in)  \n",
              "135943          29.13  \n",
              "592548          29.72  \n",
              "837767          29.15  \n",
              "12562           29.58  \n",
              "277227          29.45  \n",
              "828416          26.75  \n",
              "406461          27.22  \n",
              "1206166         29.80  \n",
              "296808          28.76  \n",
              "1461734         24.62  "
            ]
          },
          "execution_count": 26,
          "metadata": {},
          "output_type": "execute_result"
        }
      ]
    },
    {
      "cell_type": "code",
      "metadata": {
        "id": "YStSfFy8cBZy",
        "outputId": "f765cfcc-132a-48a1-d231-556410494c1b"
      },
      "source": [
        "#Obteniendo un sample para el analidad descriptivo por anio de las 4 variables buscadas\n",
        "acci[['Start_Time_YEAR', 'Temperature(F)', 'Wind_Chill(F)',\n",
        "       'Humidity(%)', 'Pressure(in)']].sample(n=10)"
      ],
      "execution_count": null,
      "outputs": [
        {
          "data": {
            "text/html": [
              "<div>\n",
              "<style scoped>\n",
              "    .dataframe tbody tr th:only-of-type {\n",
              "        vertical-align: middle;\n",
              "    }\n",
              "\n",
              "    .dataframe tbody tr th {\n",
              "        vertical-align: top;\n",
              "    }\n",
              "\n",
              "    .dataframe thead th {\n",
              "        text-align: right;\n",
              "    }\n",
              "</style>\n",
              "<table border=\"1\" class=\"dataframe\">\n",
              "  <thead>\n",
              "    <tr style=\"text-align: right;\">\n",
              "      <th></th>\n",
              "      <th>Start_Time_YEAR</th>\n",
              "      <th>Temperature(F)</th>\n",
              "      <th>Wind_Chill(F)</th>\n",
              "      <th>Humidity(%)</th>\n",
              "      <th>Pressure(in)</th>\n",
              "    </tr>\n",
              "  </thead>\n",
              "  <tbody>\n",
              "    <tr>\n",
              "      <th>829820</th>\n",
              "      <td>2020</td>\n",
              "      <td>76.0</td>\n",
              "      <td>76.0</td>\n",
              "      <td>44.0</td>\n",
              "      <td>29.45</td>\n",
              "    </tr>\n",
              "    <tr>\n",
              "      <th>1209833</th>\n",
              "      <td>2019</td>\n",
              "      <td>55.4</td>\n",
              "      <td>NaN</td>\n",
              "      <td>47.0</td>\n",
              "      <td>30.14</td>\n",
              "    </tr>\n",
              "    <tr>\n",
              "      <th>495062</th>\n",
              "      <td>2020</td>\n",
              "      <td>97.0</td>\n",
              "      <td>97.0</td>\n",
              "      <td>17.0</td>\n",
              "      <td>29.78</td>\n",
              "    </tr>\n",
              "    <tr>\n",
              "      <th>1009706</th>\n",
              "      <td>2020</td>\n",
              "      <td>57.0</td>\n",
              "      <td>57.0</td>\n",
              "      <td>59.0</td>\n",
              "      <td>29.78</td>\n",
              "    </tr>\n",
              "    <tr>\n",
              "      <th>746538</th>\n",
              "      <td>2020</td>\n",
              "      <td>63.0</td>\n",
              "      <td>63.0</td>\n",
              "      <td>52.0</td>\n",
              "      <td>29.64</td>\n",
              "    </tr>\n",
              "    <tr>\n",
              "      <th>724259</th>\n",
              "      <td>2020</td>\n",
              "      <td>72.0</td>\n",
              "      <td>72.0</td>\n",
              "      <td>78.0</td>\n",
              "      <td>29.02</td>\n",
              "    </tr>\n",
              "    <tr>\n",
              "      <th>1510429</th>\n",
              "      <td>2019</td>\n",
              "      <td>87.0</td>\n",
              "      <td>87.0</td>\n",
              "      <td>48.0</td>\n",
              "      <td>29.56</td>\n",
              "    </tr>\n",
              "    <tr>\n",
              "      <th>191196</th>\n",
              "      <td>2017</td>\n",
              "      <td>68.0</td>\n",
              "      <td>NaN</td>\n",
              "      <td>47.0</td>\n",
              "      <td>29.48</td>\n",
              "    </tr>\n",
              "    <tr>\n",
              "      <th>1316444</th>\n",
              "      <td>2018</td>\n",
              "      <td>41.0</td>\n",
              "      <td>NaN</td>\n",
              "      <td>81.0</td>\n",
              "      <td>30.29</td>\n",
              "    </tr>\n",
              "    <tr>\n",
              "      <th>106432</th>\n",
              "      <td>2016</td>\n",
              "      <td>68.0</td>\n",
              "      <td>NaN</td>\n",
              "      <td>40.0</td>\n",
              "      <td>29.96</td>\n",
              "    </tr>\n",
              "  </tbody>\n",
              "</table>\n",
              "</div>"
            ],
            "text/plain": [
              "         Start_Time_YEAR  Temperature(F)  Wind_Chill(F)  Humidity(%)  \\\n",
              "829820              2020            76.0           76.0         44.0   \n",
              "1209833             2019            55.4            NaN         47.0   \n",
              "495062              2020            97.0           97.0         17.0   \n",
              "1009706             2020            57.0           57.0         59.0   \n",
              "746538              2020            63.0           63.0         52.0   \n",
              "724259              2020            72.0           72.0         78.0   \n",
              "1510429             2019            87.0           87.0         48.0   \n",
              "191196              2017            68.0            NaN         47.0   \n",
              "1316444             2018            41.0            NaN         81.0   \n",
              "106432              2016            68.0            NaN         40.0   \n",
              "\n",
              "         Pressure(in)  \n",
              "829820          29.45  \n",
              "1209833         30.14  \n",
              "495062          29.78  \n",
              "1009706         29.78  \n",
              "746538          29.64  \n",
              "724259          29.02  \n",
              "1510429         29.56  \n",
              "191196          29.48  \n",
              "1316444         30.29  \n",
              "106432          29.96  "
            ]
          },
          "execution_count": 27,
          "metadata": {},
          "output_type": "execute_result"
        }
      ]
    },
    {
      "cell_type": "code",
      "metadata": {
        "id": "zsNo-obwcBZy",
        "outputId": "b2642d63-4b21-44ed-ac48-c2c4313c2e6f"
      },
      "source": [
        "acci_4varperyear=acci[['Start_Time_YEAR', 'Temperature(F)', 'Wind_Chill(F)',\n",
        "       'Humidity(%)', 'Pressure(in)']].sample(n=10)\n",
        "gb_4varperyear=acci_4varperyear.groupby(['Start_Time_YEAR'])['Temperature(F)', 'Wind_Chill(F)','Humidity(%)', 'Pressure(in)'].mean()"
      ],
      "execution_count": null,
      "outputs": [
        {
          "name": "stderr",
          "output_type": "stream",
          "text": [
            "<ipython-input-32-4fd773a7908b>:3: FutureWarning: Indexing with multiple keys (implicitly converted to a tuple of keys) will be deprecated, use a list instead.\n",
            "  gb_4varperyear=acci_4varperyear.groupby(['Start_Time_YEAR'])['Temperature(F)', 'Wind_Chill(F)','Humidity(%)', 'Pressure(in)'].mean()\n"
          ]
        }
      ]
    },
    {
      "cell_type": "code",
      "metadata": {
        "id": "FYX429vucBZz",
        "outputId": "6f5701e6-24bf-460b-bad4-ae71224dfc28"
      },
      "source": [
        "gb_4varperyear"
      ],
      "execution_count": null,
      "outputs": [
        {
          "data": {
            "text/html": [
              "<div>\n",
              "<style scoped>\n",
              "    .dataframe tbody tr th:only-of-type {\n",
              "        vertical-align: middle;\n",
              "    }\n",
              "\n",
              "    .dataframe tbody tr th {\n",
              "        vertical-align: top;\n",
              "    }\n",
              "\n",
              "    .dataframe thead th {\n",
              "        text-align: right;\n",
              "    }\n",
              "</style>\n",
              "<table border=\"1\" class=\"dataframe\">\n",
              "  <thead>\n",
              "    <tr style=\"text-align: right;\">\n",
              "      <th></th>\n",
              "      <th>Temperature(F)</th>\n",
              "      <th>Wind_Chill(F)</th>\n",
              "      <th>Humidity(%)</th>\n",
              "      <th>Pressure(in)</th>\n",
              "    </tr>\n",
              "    <tr>\n",
              "      <th>Start_Time_YEAR</th>\n",
              "      <th></th>\n",
              "      <th></th>\n",
              "      <th></th>\n",
              "      <th></th>\n",
              "    </tr>\n",
              "  </thead>\n",
              "  <tbody>\n",
              "    <tr>\n",
              "      <th>2016</th>\n",
              "      <td>79.00</td>\n",
              "      <td>NaN</td>\n",
              "      <td>23.0</td>\n",
              "      <td>29.8000</td>\n",
              "    </tr>\n",
              "    <tr>\n",
              "      <th>2017</th>\n",
              "      <td>77.25</td>\n",
              "      <td>NaN</td>\n",
              "      <td>70.0</td>\n",
              "      <td>29.9750</td>\n",
              "    </tr>\n",
              "    <tr>\n",
              "      <th>2018</th>\n",
              "      <td>32.00</td>\n",
              "      <td>19.80</td>\n",
              "      <td>92.0</td>\n",
              "      <td>29.7200</td>\n",
              "    </tr>\n",
              "    <tr>\n",
              "      <th>2019</th>\n",
              "      <td>62.05</td>\n",
              "      <td>64.00</td>\n",
              "      <td>79.0</td>\n",
              "      <td>29.9300</td>\n",
              "    </tr>\n",
              "    <tr>\n",
              "      <th>2020</th>\n",
              "      <td>50.25</td>\n",
              "      <td>46.25</td>\n",
              "      <td>63.5</td>\n",
              "      <td>29.5775</td>\n",
              "    </tr>\n",
              "  </tbody>\n",
              "</table>\n",
              "</div>"
            ],
            "text/plain": [
              "                 Temperature(F)  Wind_Chill(F)  Humidity(%)  Pressure(in)\n",
              "Start_Time_YEAR                                                          \n",
              "2016                      79.00            NaN         23.0       29.8000\n",
              "2017                      77.25            NaN         70.0       29.9750\n",
              "2018                      32.00          19.80         92.0       29.7200\n",
              "2019                      62.05          64.00         79.0       29.9300\n",
              "2020                      50.25          46.25         63.5       29.5775"
            ]
          },
          "execution_count": 33,
          "metadata": {},
          "output_type": "execute_result"
        }
      ]
    },
    {
      "cell_type": "code",
      "metadata": {
        "id": "i4KOtS_9cBZz",
        "outputId": "c9c77634-7955-498f-a0d4-1f7b589448f8"
      },
      "source": [
        "gb_4varperyear.plot.bar(figsize=(18,6))"
      ],
      "execution_count": null,
      "outputs": [
        {
          "data": {
            "text/plain": [
              "<AxesSubplot:xlabel='Start_Time_YEAR'>"
            ]
          },
          "execution_count": 34,
          "metadata": {},
          "output_type": "execute_result"
        },
        {
          "data": {
            "image/png": "[encoded data removed]",
            "text/plain": [
              "<Figure size 1296x432 with 1 Axes>"
            ]
          },
          "metadata": {
            "needs_background": "light"
          },
          "output_type": "display_data"
        }
      ]
    },
    {
      "cell_type": "code",
      "metadata": {
        "id": "ZzZkulrlcBZ0",
        "outputId": "3c63e49f-0ce7-4ba8-cd25-086375cb1be1"
      },
      "source": [
        "#Analisis descriptivo por anio de las variables Temperature, Wind_Chill, Humidity , Pressure and visibility\n",
        "gb_4varperyear.plot.bar(figsize=(18,6))"
      ],
      "execution_count": null,
      "outputs": [
        {
          "data": {
            "text/plain": [
              "<AxesSubplot:xlabel='Start_Time_YEAR'>"
            ]
          },
          "execution_count": 35,
          "metadata": {},
          "output_type": "execute_result"
        },
        {
          "data": {
            "image/png": "[encoded data removed]",
            "text/plain": [
              "<Figure size 1296x432 with 1 Axes>"
            ]
          },
          "metadata": {
            "needs_background": "light"
          },
          "output_type": "display_data"
        }
      ]
    },
    {
      "cell_type": "code",
      "metadata": {
        "id": "AFHjtiTLcBZ0",
        "outputId": "42d71971-78b0-4f6a-a195-35280f4b7f1f"
      },
      "source": [
        "\n",
        "# %%\n",
        "#Analisis descriptivo por timezone de las variables:\n",
        "# - Temperature\n",
        "# - Windchill\n",
        "# - Humidity\n",
        "# - Pressure and visibility\n",
        "# %%\n",
        "# Timezone vs 4 variables\n",
        "acci_timezone_4var=acci[['Timezone', 'Temperature(F)', 'Wind_Chill(F)',\n",
        "       'Humidity(%)', 'Pressure(in)']]\n",
        "gb_acci_timezone_4var=acci_timezone_4var.groupby(['Timezone'])['Temperature(F)', 'Wind_Chill(F)','Humidity(%)', 'Pressure(in)'].mean()\n",
        "gb_acci_timezone_4var.plot.bar(figsize=(18,6))"
      ],
      "execution_count": null,
      "outputs": [
        {
          "name": "stderr",
          "output_type": "stream",
          "text": [
            "<ipython-input-42-c4f5d573a103>:11: FutureWarning: Indexing with multiple keys (implicitly converted to a tuple of keys) will be deprecated, use a list instead.\n",
            "  gb_acci_timezone_4var=acci_timezone_4var.groupby(['Timezone'])['Temperature(F)', 'Wind_Chill(F)','Humidity(%)', 'Pressure(in)'].mean()\n"
          ]
        },
        {
          "data": {
            "text/plain": [
              "<AxesSubplot:xlabel='Timezone'>"
            ]
          },
          "execution_count": 42,
          "metadata": {},
          "output_type": "execute_result"
        },
        {
          "data": {
            "image/png": "[encoded data removed]",
            "text/plain": [
              "<Figure size 1296x432 with 1 Axes>"
            ]
          },
          "metadata": {
            "needs_background": "light"
          },
          "output_type": "display_data"
        }
      ]
    },
    {
      "cell_type": "code",
      "metadata": {
        "id": "1r0wrCDVcBZ0",
        "outputId": "52935b96-f9e1-41ca-dbc1-dbe20303cb40"
      },
      "source": [
        "#Diagrama descriptivo de precipitation vs. Severity:\n",
        "sever_preci=acci[['Severity','Precipitation(in)']].sample(n=10)\n",
        "gb_sever_preci=sever_preci.groupby(['Severity'])['Precipitation(in)'].mean()\n",
        "gb_sever_preci.plot.bar(figsize=(18,6))"
      ],
      "execution_count": null,
      "outputs": [
        {
          "data": {
            "text/plain": [
              "<AxesSubplot:xlabel='Severity'>"
            ]
          },
          "execution_count": 7,
          "metadata": {},
          "output_type": "execute_result"
        },
        {
          "data": {
            "image/png": "[encoded data removed]",
            "text/plain": [
              "<Figure size 1296x432 with 1 Axes>"
            ]
          },
          "metadata": {
            "needs_background": "light"
          },
          "output_type": "display_data"
        }
      ]
    },
    {
      "cell_type": "code",
      "metadata": {
        "id": "Oa2XqH4wcBZ0",
        "outputId": "4e750509-8984-4613-8a93-e0db4c3135af"
      },
      "source": [
        "#Diagrama descriptivo de WC vs Cantidad de accidentes, severidad, mes\n",
        "len(acci.Weather_Condition.unique())\n",
        "\n",
        "FiveClimaCond=acci.Weather_Condition.value_counts().head(5)\n",
        "accFiveWC=acci[acci.Weather_Condition.isin(FiveClimaCond.index)]\n",
        "accFiveWC\n",
        "accFiveWC=accFiveWC[['Weather_Condition','Severity','End_Time_MONTH']]\n",
        "accFiveWC"
      ],
      "execution_count": null,
      "outputs": [
        {
          "data": {
            "text/html": [
              "<div>\n",
              "<style scoped>\n",
              "    .dataframe tbody tr th:only-of-type {\n",
              "        vertical-align: middle;\n",
              "    }\n",
              "\n",
              "    .dataframe tbody tr th {\n",
              "        vertical-align: top;\n",
              "    }\n",
              "\n",
              "    .dataframe thead th {\n",
              "        text-align: right;\n",
              "    }\n",
              "</style>\n",
              "<table border=\"1\" class=\"dataframe\">\n",
              "  <thead>\n",
              "    <tr style=\"text-align: right;\">\n",
              "      <th></th>\n",
              "      <th>Weather_Condition</th>\n",
              "      <th>Severity</th>\n",
              "      <th>End_Time_MONTH</th>\n",
              "    </tr>\n",
              "  </thead>\n",
              "  <tbody>\n",
              "    <tr>\n",
              "      <th>8</th>\n",
              "      <td>Mostly Cloudy</td>\n",
              "      <td>2</td>\n",
              "      <td>2</td>\n",
              "    </tr>\n",
              "    <tr>\n",
              "      <th>16</th>\n",
              "      <td>Mostly Cloudy</td>\n",
              "      <td>3</td>\n",
              "      <td>2</td>\n",
              "    </tr>\n",
              "    <tr>\n",
              "      <th>17</th>\n",
              "      <td>Mostly Cloudy</td>\n",
              "      <td>3</td>\n",
              "      <td>2</td>\n",
              "    </tr>\n",
              "    <tr>\n",
              "      <th>27</th>\n",
              "      <td>Cloudy</td>\n",
              "      <td>2</td>\n",
              "      <td>2</td>\n",
              "    </tr>\n",
              "    <tr>\n",
              "      <th>58</th>\n",
              "      <td>Mostly Cloudy</td>\n",
              "      <td>2</td>\n",
              "      <td>2</td>\n",
              "    </tr>\n",
              "    <tr>\n",
              "      <th>...</th>\n",
              "      <td>...</td>\n",
              "      <td>...</td>\n",
              "      <td>...</td>\n",
              "    </tr>\n",
              "    <tr>\n",
              "      <th>1516059</th>\n",
              "      <td>Fair</td>\n",
              "      <td>2</td>\n",
              "      <td>8</td>\n",
              "    </tr>\n",
              "    <tr>\n",
              "      <th>1516060</th>\n",
              "      <td>Fair</td>\n",
              "      <td>2</td>\n",
              "      <td>8</td>\n",
              "    </tr>\n",
              "    <tr>\n",
              "      <th>1516061</th>\n",
              "      <td>Partly Cloudy</td>\n",
              "      <td>2</td>\n",
              "      <td>8</td>\n",
              "    </tr>\n",
              "    <tr>\n",
              "      <th>1516062</th>\n",
              "      <td>Fair</td>\n",
              "      <td>2</td>\n",
              "      <td>8</td>\n",
              "    </tr>\n",
              "    <tr>\n",
              "      <th>1516063</th>\n",
              "      <td>Fair</td>\n",
              "      <td>2</td>\n",
              "      <td>8</td>\n",
              "    </tr>\n",
              "  </tbody>\n",
              "</table>\n",
              "<p>1133463 rows × 3 columns</p>\n",
              "</div>"
            ],
            "text/plain": [
              "        Weather_Condition  Severity  End_Time_MONTH\n",
              "8           Mostly Cloudy         2               2\n",
              "16          Mostly Cloudy         3               2\n",
              "17          Mostly Cloudy         3               2\n",
              "27                 Cloudy         2               2\n",
              "58          Mostly Cloudy         2               2\n",
              "...                   ...       ...             ...\n",
              "1516059              Fair         2               8\n",
              "1516060              Fair         2               8\n",
              "1516061     Partly Cloudy         2               8\n",
              "1516062              Fair         2               8\n",
              "1516063              Fair         2               8\n",
              "\n",
              "[1133463 rows x 3 columns]"
            ]
          },
          "execution_count": 38,
          "metadata": {},
          "output_type": "execute_result"
        }
      ]
    },
    {
      "cell_type": "code",
      "metadata": {
        "id": "laHXleuecBZ1",
        "outputId": "002c6c88-b66a-4000-caac-49b63c8c3328"
      },
      "source": [
        "#Diagrama descriptivo de WC vs Cantidad de accidentes, y mes segun severidad\n",
        "len(acci.Weather_Condition.unique())\n",
        "\n",
        "FiveClimaCond=acci.Weather_Condition.value_counts().head(5)\n",
        "accFiveWC=acci[acci.Weather_Condition.isin(FiveClimaCond.index)]\n",
        "accFiveWC\n"
      ],
      "execution_count": null,
      "outputs": [
        {
          "data": {
            "text/html": [
              "<div>\n",
              "<style scoped>\n",
              "    .dataframe tbody tr th:only-of-type {\n",
              "        vertical-align: middle;\n",
              "    }\n",
              "\n",
              "    .dataframe tbody tr th {\n",
              "        vertical-align: top;\n",
              "    }\n",
              "\n",
              "    .dataframe thead th {\n",
              "        text-align: right;\n",
              "    }\n",
              "</style>\n",
              "<table border=\"1\" class=\"dataframe\">\n",
              "  <thead>\n",
              "    <tr style=\"text-align: right;\">\n",
              "      <th></th>\n",
              "      <th>ID</th>\n",
              "      <th>Severity</th>\n",
              "      <th>Start_Time</th>\n",
              "      <th>End_Time</th>\n",
              "      <th>Start_Lat</th>\n",
              "      <th>Start_Lng</th>\n",
              "      <th>End_Lat</th>\n",
              "      <th>End_Lng</th>\n",
              "      <th>Distance(mi)</th>\n",
              "      <th>Description</th>\n",
              "      <th>...</th>\n",
              "      <th>Astronomical_Twilight</th>\n",
              "      <th>DeltaT</th>\n",
              "      <th>Start_Time_YEAR</th>\n",
              "      <th>Start_Time_MONTH</th>\n",
              "      <th>Start_Time_DAY</th>\n",
              "      <th>Start_Time_HOUR</th>\n",
              "      <th>End_Time_YEAR</th>\n",
              "      <th>End_Time_MONTH</th>\n",
              "      <th>End_Time_DAY</th>\n",
              "      <th>End_Time_HOUR</th>\n",
              "    </tr>\n",
              "  </thead>\n",
              "  <tbody>\n",
              "    <tr>\n",
              "      <th>8</th>\n",
              "      <td>A-2716608</td>\n",
              "      <td>2</td>\n",
              "      <td>2016-02-08 08:15:41</td>\n",
              "      <td>2016-02-08 14:15:41</td>\n",
              "      <td>39.775650</td>\n",
              "      <td>-84.186030</td>\n",
              "      <td>39.772750</td>\n",
              "      <td>-84.188050</td>\n",
              "      <td>0.227</td>\n",
              "      <td>At OH-4/Exit 54 - Accident.</td>\n",
              "      <td>...</td>\n",
              "      <td>Day</td>\n",
              "      <td>6.000000</td>\n",
              "      <td>2016</td>\n",
              "      <td>2</td>\n",
              "      <td>8</td>\n",
              "      <td>08:15:41</td>\n",
              "      <td>2016</td>\n",
              "      <td>2</td>\n",
              "      <td>8</td>\n",
              "      <td>14:15:41</td>\n",
              "    </tr>\n",
              "    <tr>\n",
              "      <th>16</th>\n",
              "      <td>A-2716616</td>\n",
              "      <td>3</td>\n",
              "      <td>2016-02-08 18:11:11</td>\n",
              "      <td>2016-02-09 00:11:11</td>\n",
              "      <td>40.151785</td>\n",
              "      <td>-81.312635</td>\n",
              "      <td>40.151747</td>\n",
              "      <td>-81.312682</td>\n",
              "      <td>0.004</td>\n",
              "      <td>At Shipley Rd - Accident.</td>\n",
              "      <td>...</td>\n",
              "      <td>Day</td>\n",
              "      <td>6.000000</td>\n",
              "      <td>2016</td>\n",
              "      <td>2</td>\n",
              "      <td>8</td>\n",
              "      <td>18:11:11</td>\n",
              "      <td>2016</td>\n",
              "      <td>2</td>\n",
              "      <td>9</td>\n",
              "      <td>00:11:11</td>\n",
              "    </tr>\n",
              "    <tr>\n",
              "      <th>17</th>\n",
              "      <td>A-2716617</td>\n",
              "      <td>3</td>\n",
              "      <td>2016-02-08 18:11:11</td>\n",
              "      <td>2016-02-09 00:11:11</td>\n",
              "      <td>40.151747</td>\n",
              "      <td>-81.312682</td>\n",
              "      <td>40.151785</td>\n",
              "      <td>-81.312635</td>\n",
              "      <td>0.004</td>\n",
              "      <td>At Titus Rd - Accident.</td>\n",
              "      <td>...</td>\n",
              "      <td>Day</td>\n",
              "      <td>6.000000</td>\n",
              "      <td>2016</td>\n",
              "      <td>2</td>\n",
              "      <td>8</td>\n",
              "      <td>18:11:11</td>\n",
              "      <td>2016</td>\n",
              "      <td>2</td>\n",
              "      <td>9</td>\n",
              "      <td>00:11:11</td>\n",
              "    </tr>\n",
              "    <tr>\n",
              "      <th>27</th>\n",
              "      <td>A-2716627</td>\n",
              "      <td>2</td>\n",
              "      <td>2016-02-09 07:18:10</td>\n",
              "      <td>2016-02-09 13:18:10</td>\n",
              "      <td>39.307320</td>\n",
              "      <td>-85.959820</td>\n",
              "      <td>39.304570</td>\n",
              "      <td>-85.962840</td>\n",
              "      <td>0.249</td>\n",
              "      <td>At US-31/Exit 76 - Accident.</td>\n",
              "      <td>...</td>\n",
              "      <td>Day</td>\n",
              "      <td>6.000000</td>\n",
              "      <td>2016</td>\n",
              "      <td>2</td>\n",
              "      <td>9</td>\n",
              "      <td>07:18:10</td>\n",
              "      <td>2016</td>\n",
              "      <td>2</td>\n",
              "      <td>9</td>\n",
              "      <td>13:18:10</td>\n",
              "    </tr>\n",
              "    <tr>\n",
              "      <th>58</th>\n",
              "      <td>A-2716658</td>\n",
              "      <td>2</td>\n",
              "      <td>2016-02-10 09:06:09</td>\n",
              "      <td>2016-02-10 15:06:09</td>\n",
              "      <td>38.178100</td>\n",
              "      <td>-85.719460</td>\n",
              "      <td>38.181040</td>\n",
              "      <td>-85.721160</td>\n",
              "      <td>0.223</td>\n",
              "      <td>At KY-61/Grade Lane/Exit 130 - Accident.</td>\n",
              "      <td>...</td>\n",
              "      <td>Day</td>\n",
              "      <td>6.000000</td>\n",
              "      <td>2016</td>\n",
              "      <td>2</td>\n",
              "      <td>10</td>\n",
              "      <td>09:06:09</td>\n",
              "      <td>2016</td>\n",
              "      <td>2</td>\n",
              "      <td>10</td>\n",
              "      <td>15:06:09</td>\n",
              "    </tr>\n",
              "    <tr>\n",
              "      <th>...</th>\n",
              "      <td>...</td>\n",
              "      <td>...</td>\n",
              "      <td>...</td>\n",
              "      <td>...</td>\n",
              "      <td>...</td>\n",
              "      <td>...</td>\n",
              "      <td>...</td>\n",
              "      <td>...</td>\n",
              "      <td>...</td>\n",
              "      <td>...</td>\n",
              "      <td>...</td>\n",
              "      <td>...</td>\n",
              "      <td>...</td>\n",
              "      <td>...</td>\n",
              "      <td>...</td>\n",
              "      <td>...</td>\n",
              "      <td>...</td>\n",
              "      <td>...</td>\n",
              "      <td>...</td>\n",
              "      <td>...</td>\n",
              "      <td>...</td>\n",
              "    </tr>\n",
              "    <tr>\n",
              "      <th>1516059</th>\n",
              "      <td>A-4239402</td>\n",
              "      <td>2</td>\n",
              "      <td>2019-08-23 18:03:25</td>\n",
              "      <td>2019-08-23 18:32:01</td>\n",
              "      <td>34.002480</td>\n",
              "      <td>-117.379360</td>\n",
              "      <td>33.998880</td>\n",
              "      <td>-117.370940</td>\n",
              "      <td>0.543</td>\n",
              "      <td>At Market St - Accident.</td>\n",
              "      <td>...</td>\n",
              "      <td>Day</td>\n",
              "      <td>0.476667</td>\n",
              "      <td>2019</td>\n",
              "      <td>8</td>\n",
              "      <td>23</td>\n",
              "      <td>18:03:25</td>\n",
              "      <td>2019</td>\n",
              "      <td>8</td>\n",
              "      <td>23</td>\n",
              "      <td>18:32:01</td>\n",
              "    </tr>\n",
              "    <tr>\n",
              "      <th>1516060</th>\n",
              "      <td>A-4239403</td>\n",
              "      <td>2</td>\n",
              "      <td>2019-08-23 19:11:30</td>\n",
              "      <td>2019-08-23 19:38:23</td>\n",
              "      <td>32.766960</td>\n",
              "      <td>-117.148060</td>\n",
              "      <td>32.765550</td>\n",
              "      <td>-117.153630</td>\n",
              "      <td>0.338</td>\n",
              "      <td>At Camino Del Rio/Mission Center Rd - Accident.</td>\n",
              "      <td>...</td>\n",
              "      <td>Day</td>\n",
              "      <td>0.448056</td>\n",
              "      <td>2019</td>\n",
              "      <td>8</td>\n",
              "      <td>23</td>\n",
              "      <td>19:11:30</td>\n",
              "      <td>2019</td>\n",
              "      <td>8</td>\n",
              "      <td>23</td>\n",
              "      <td>19:38:23</td>\n",
              "    </tr>\n",
              "    <tr>\n",
              "      <th>1516061</th>\n",
              "      <td>A-4239404</td>\n",
              "      <td>2</td>\n",
              "      <td>2019-08-23 19:00:21</td>\n",
              "      <td>2019-08-23 19:28:49</td>\n",
              "      <td>33.775450</td>\n",
              "      <td>-117.847790</td>\n",
              "      <td>33.777400</td>\n",
              "      <td>-117.857270</td>\n",
              "      <td>0.561</td>\n",
              "      <td>At Glassell St/Grand Ave - Accident. in the ri...</td>\n",
              "      <td>...</td>\n",
              "      <td>Day</td>\n",
              "      <td>0.474444</td>\n",
              "      <td>2019</td>\n",
              "      <td>8</td>\n",
              "      <td>23</td>\n",
              "      <td>19:00:21</td>\n",
              "      <td>2019</td>\n",
              "      <td>8</td>\n",
              "      <td>23</td>\n",
              "      <td>19:28:49</td>\n",
              "    </tr>\n",
              "    <tr>\n",
              "      <th>1516062</th>\n",
              "      <td>A-4239405</td>\n",
              "      <td>2</td>\n",
              "      <td>2019-08-23 19:00:21</td>\n",
              "      <td>2019-08-23 19:29:42</td>\n",
              "      <td>33.992460</td>\n",
              "      <td>-118.403020</td>\n",
              "      <td>33.983110</td>\n",
              "      <td>-118.395650</td>\n",
              "      <td>0.772</td>\n",
              "      <td>At CA-90/Marina Fwy/Jefferson Blvd - Accident.</td>\n",
              "      <td>...</td>\n",
              "      <td>Day</td>\n",
              "      <td>0.489167</td>\n",
              "      <td>2019</td>\n",
              "      <td>8</td>\n",
              "      <td>23</td>\n",
              "      <td>19:00:21</td>\n",
              "      <td>2019</td>\n",
              "      <td>8</td>\n",
              "      <td>23</td>\n",
              "      <td>19:29:42</td>\n",
              "    </tr>\n",
              "    <tr>\n",
              "      <th>1516063</th>\n",
              "      <td>A-4239406</td>\n",
              "      <td>2</td>\n",
              "      <td>2019-08-23 18:52:06</td>\n",
              "      <td>2019-08-23 19:21:31</td>\n",
              "      <td>34.133930</td>\n",
              "      <td>-117.230920</td>\n",
              "      <td>34.137360</td>\n",
              "      <td>-117.239340</td>\n",
              "      <td>0.537</td>\n",
              "      <td>At Highland Ave/Arden Ave - Accident.</td>\n",
              "      <td>...</td>\n",
              "      <td>Day</td>\n",
              "      <td>0.490278</td>\n",
              "      <td>2019</td>\n",
              "      <td>8</td>\n",
              "      <td>23</td>\n",
              "      <td>18:52:06</td>\n",
              "      <td>2019</td>\n",
              "      <td>8</td>\n",
              "      <td>23</td>\n",
              "      <td>19:21:31</td>\n",
              "    </tr>\n",
              "  </tbody>\n",
              "</table>\n",
              "<p>1133463 rows × 56 columns</p>\n",
              "</div>"
            ],
            "text/plain": [
              "                ID  Severity          Start_Time            End_Time  \\\n",
              "8        A-2716608         2 2016-02-08 08:15:41 2016-02-08 14:15:41   \n",
              "16       A-2716616         3 2016-02-08 18:11:11 2016-02-09 00:11:11   \n",
              "17       A-2716617         3 2016-02-08 18:11:11 2016-02-09 00:11:11   \n",
              "27       A-2716627         2 2016-02-09 07:18:10 2016-02-09 13:18:10   \n",
              "58       A-2716658         2 2016-02-10 09:06:09 2016-02-10 15:06:09   \n",
              "...            ...       ...                 ...                 ...   \n",
              "1516059  A-4239402         2 2019-08-23 18:03:25 2019-08-23 18:32:01   \n",
              "1516060  A-4239403         2 2019-08-23 19:11:30 2019-08-23 19:38:23   \n",
              "1516061  A-4239404         2 2019-08-23 19:00:21 2019-08-23 19:28:49   \n",
              "1516062  A-4239405         2 2019-08-23 19:00:21 2019-08-23 19:29:42   \n",
              "1516063  A-4239406         2 2019-08-23 18:52:06 2019-08-23 19:21:31   \n",
              "\n",
              "         Start_Lat   Start_Lng    End_Lat     End_Lng  Distance(mi)  \\\n",
              "8        39.775650  -84.186030  39.772750  -84.188050         0.227   \n",
              "16       40.151785  -81.312635  40.151747  -81.312682         0.004   \n",
              "17       40.151747  -81.312682  40.151785  -81.312635         0.004   \n",
              "27       39.307320  -85.959820  39.304570  -85.962840         0.249   \n",
              "58       38.178100  -85.719460  38.181040  -85.721160         0.223   \n",
              "...            ...         ...        ...         ...           ...   \n",
              "1516059  34.002480 -117.379360  33.998880 -117.370940         0.543   \n",
              "1516060  32.766960 -117.148060  32.765550 -117.153630         0.338   \n",
              "1516061  33.775450 -117.847790  33.777400 -117.857270         0.561   \n",
              "1516062  33.992460 -118.403020  33.983110 -118.395650         0.772   \n",
              "1516063  34.133930 -117.230920  34.137360 -117.239340         0.537   \n",
              "\n",
              "                                               Description  ...  \\\n",
              "8                              At OH-4/Exit 54 - Accident.  ...   \n",
              "16                               At Shipley Rd - Accident.  ...   \n",
              "17                                 At Titus Rd - Accident.  ...   \n",
              "27                            At US-31/Exit 76 - Accident.  ...   \n",
              "58                At KY-61/Grade Lane/Exit 130 - Accident.  ...   \n",
              "...                                                    ...  ...   \n",
              "1516059                           At Market St - Accident.  ...   \n",
              "1516060    At Camino Del Rio/Mission Center Rd - Accident.  ...   \n",
              "1516061  At Glassell St/Grand Ave - Accident. in the ri...  ...   \n",
              "1516062     At CA-90/Marina Fwy/Jefferson Blvd - Accident.  ...   \n",
              "1516063              At Highland Ave/Arden Ave - Accident.  ...   \n",
              "\n",
              "         Astronomical_Twilight    DeltaT Start_Time_YEAR Start_Time_MONTH  \\\n",
              "8                          Day  6.000000            2016                2   \n",
              "16                         Day  6.000000            2016                2   \n",
              "17                         Day  6.000000            2016                2   \n",
              "27                         Day  6.000000            2016                2   \n",
              "58                         Day  6.000000            2016                2   \n",
              "...                        ...       ...             ...              ...   \n",
              "1516059                    Day  0.476667            2019                8   \n",
              "1516060                    Day  0.448056            2019                8   \n",
              "1516061                    Day  0.474444            2019                8   \n",
              "1516062                    Day  0.489167            2019                8   \n",
              "1516063                    Day  0.490278            2019                8   \n",
              "\n",
              "        Start_Time_DAY Start_Time_HOUR End_Time_YEAR End_Time_MONTH  \\\n",
              "8                    8        08:15:41          2016              2   \n",
              "16                   8        18:11:11          2016              2   \n",
              "17                   8        18:11:11          2016              2   \n",
              "27                   9        07:18:10          2016              2   \n",
              "58                  10        09:06:09          2016              2   \n",
              "...                ...             ...           ...            ...   \n",
              "1516059             23        18:03:25          2019              8   \n",
              "1516060             23        19:11:30          2019              8   \n",
              "1516061             23        19:00:21          2019              8   \n",
              "1516062             23        19:00:21          2019              8   \n",
              "1516063             23        18:52:06          2019              8   \n",
              "\n",
              "        End_Time_DAY End_Time_HOUR  \n",
              "8                  8      14:15:41  \n",
              "16                 9      00:11:11  \n",
              "17                 9      00:11:11  \n",
              "27                 9      13:18:10  \n",
              "58                10      15:06:09  \n",
              "...              ...           ...  \n",
              "1516059           23      18:32:01  \n",
              "1516060           23      19:38:23  \n",
              "1516061           23      19:28:49  \n",
              "1516062           23      19:29:42  \n",
              "1516063           23      19:21:31  \n",
              "\n",
              "[1133463 rows x 56 columns]"
            ]
          },
          "execution_count": 16,
          "metadata": {},
          "output_type": "execute_result"
        }
      ]
    },
    {
      "cell_type": "code",
      "metadata": {
        "id": "FkTlHyBwcBZ1",
        "outputId": "acd34d3e-4e67-4a36-cbbf-0eb18326119a"
      },
      "source": [
        "#SEVERIDAD 1: Numero de accidentes con severidad \"1\" a lo largo del tiempo segun Weather Condition \n",
        "import seaborn as sns\n",
        "import matplotlib.pyplot as plt\n",
        "accFiveWC_3v=accFiveWC[['Weather_Condition','Severity','End_Time_MONTH']]\n",
        "accFiveWC_3v_df1=accFiveWC_3v.loc[accFiveWC_3v[\"Severity\"]==1]\n",
        "accFiveWC_3v_df2=accFiveWC_3v_df1.groupby([\"End_Time_MONTH\"], sort=True)['Weather_Condition'].value_counts(ascending=True)\n",
        "accFiveWC_3v_df2.unstack().plot(kind='bar')\n",
        "plt.xlabel(\"Month number\", labelpad=14)\n",
        "plt.title(\"Severity 1\", y=1.02);"
      ],
      "execution_count": null,
      "outputs": [
        {
          "data": {
            "image/png": "[encoded data removed]",
            "text/plain": [
              "<Figure size 432x288 with 1 Axes>"
            ]
          },
          "metadata": {
            "needs_background": "light"
          },
          "output_type": "display_data"
        }
      ]
    },
    {
      "cell_type": "code",
      "metadata": {
        "id": "Zn5t9nBrcBZ1",
        "outputId": "bf234b32-e090-4be9-b09a-84cdeee76301"
      },
      "source": [
        "#SEVERIDAD 2: Numero de accidentes con severidad \"2\" a lo largo del tiempo segun Weather Condition \n",
        "import seaborn as sns\n",
        "import matplotlib.pyplot as plt\n",
        "accFiveWC_3v=accFiveWC[['Weather_Condition','Severity','End_Time_MONTH']]\n",
        "accFiveWC_3v_df1=accFiveWC_3v.loc[accFiveWC_3v[\"Severity\"]==2]\n",
        "accFiveWC_3v_df2=accFiveWC_3v_df1.groupby([\"End_Time_MONTH\"], sort=True)['Weather_Condition'].value_counts(ascending=True)\n",
        "accFiveWC_3v_df2.unstack().plot(kind='bar')\n",
        "plt.xlabel(\"Month number\", labelpad=14)\n",
        "plt.title(\"Severity 2\", y=1.02);"
      ],
      "execution_count": null,
      "outputs": [
        {
          "data": {
            "image/png": "[encoded data removed]",
            "text/plain": [
              "<Figure size 432x288 with 1 Axes>"
            ]
          },
          "metadata": {
            "needs_background": "light"
          },
          "output_type": "display_data"
        }
      ]
    },
    {
      "cell_type": "code",
      "metadata": {
        "id": "ksE-E6pKcBZ1",
        "outputId": "322c6f43-40f3-43a7-84df-3795de5a2c08"
      },
      "source": [
        "#SEVERIDAD 3: Numero de accidentes con severidad \"3\" a lo largo del tiempo segun Weather Condition \n",
        "import seaborn as sns\n",
        "import matplotlib.pyplot as plt\n",
        "accFiveWC_3v=accFiveWC[['Weather_Condition','Severity','End_Time_MONTH']]\n",
        "accFiveWC_3v_df1=accFiveWC_3v.loc[accFiveWC_3v[\"Severity\"]==3]\n",
        "accFiveWC_3v_df2=accFiveWC_3v_df1.groupby([\"End_Time_MONTH\"], sort=True)['Weather_Condition'].value_counts(ascending=True)\n",
        "accFiveWC_3v_df2.unstack().plot(kind='bar')\n",
        "plt.xlabel(\"Month number\", labelpad=14)\n",
        "plt.title(\"Severity 3\", y=1.02);"
      ],
      "execution_count": null,
      "outputs": [
        {
          "data": {
            "image/png": "[encoded data removed]",
            "text/plain": [
              "<Figure size 432x288 with 1 Axes>"
            ]
          },
          "metadata": {
            "needs_background": "light"
          },
          "output_type": "display_data"
        }
      ]
    },
    {
      "cell_type": "code",
      "metadata": {
        "id": "sHSxR_czcBZ2",
        "outputId": "a9806046-3dd4-4d58-f838-5b6a00673d2f"
      },
      "source": [
        "#SEVERIDAD 4: Numero de accidentes con severidad \"4\" a lo largo del tiempo segun Weather Condition \n",
        "import seaborn as sns\n",
        "import matplotlib.pyplot as plt\n",
        "accFiveWC_3v=accFiveWC[['Weather_Condition','Severity','End_Time_MONTH']]\n",
        "accFiveWC_3v_df1=accFiveWC_3v.loc[accFiveWC_3v[\"Severity\"]==4]\n",
        "accFiveWC_3v_df2=accFiveWC_3v_df1.groupby([\"End_Time_MONTH\"], sort=True)['Weather_Condition'].value_counts(ascending=True)\n",
        "accFiveWC_3v_df2.unstack().plot(kind='bar')\n",
        "plt.xlabel(\"Month number\", labelpad=14)\n",
        "plt.title(\"Severity 4\", y=1.02);"
      ],
      "execution_count": null,
      "outputs": [
        {
          "data": {
            "image/png": "[encoded data removed]",
            "text/plain": [
              "<Figure size 432x288 with 1 Axes>"
            ]
          },
          "metadata": {
            "needs_background": "light"
          },
          "output_type": "display_data"
        }
      ]
    }
  ]
}